{
 "cells": [
  {
   "cell_type": "markdown",
   "id": "ca6c0e49",
   "metadata": {
    "toc": true
   },
   "source": [
    "<h1>Table of Contents<span class=\"tocSkip\"></span></h1>\n",
    "<div class=\"toc\"><ul class=\"toc-item\"></ul></div>"
   ]
  },
  {
   "cell_type": "code",
   "execution_count": 399,
   "id": "1a8f5d90",
   "metadata": {},
   "outputs": [],
   "source": [
    "import pandas as pd\n",
    "import numpy as np\n",
    "from scipy.stats import ttest_ind_from_stats, pearsonr\n",
    "import statsmodels.formula.api as smf\n",
    "import matplotlib.pyplot as plt\n",
    "import re"
   ]
  },
  {
   "cell_type": "code",
   "execution_count": 400,
   "id": "872f953b",
   "metadata": {},
   "outputs": [],
   "source": [
    "# get files, clean them up\n",
    "def clean_files(df, control):\n",
    "    file = pd.read_csv(df, index_col = 0)\n",
    "    file.index = file.index.str.strip()\n",
    "    if not (control):\n",
    "        file = file[[\"2017\", \"2018\", \"2019\", \"2020\", \"2021\"]]\n",
    "    return file\n",
    "    \n",
    "violent_crime = clean_files(\"data_files/violent_crime_rates.csv\", control=False)\n",
    "property_crime = clean_files(\"data_files/property_crime_rates.csv\", control=False)\n",
    "unemployment = clean_files(\"data_files/unemployment.csv\", control=False)\n",
    "health_factors = clean_files(\"data_files/health_factors.csv\", control=False)\n",
    "health_outcomes = clean_files(\"data_files/health_outcomes.csv\", control=False)\n",
    "od_deaths = clean_files(\"data_files/od_death_rate_final.csv\", control=False)\n",
    "free_reduced_meals = clean_files(\"data_files/free_reduced_meals.csv\", control=False)\n",
    "graduation_rates = clean_files(\"data_files/graduation_rates.csv\", control=False)\n",
    "population = clean_files(\"data_files/population.csv\", control=False)\n",
    "wealth_metrics = clean_files(\"data_files/wealth_metrics.csv\", control=True)\n",
    "urban_rural = clean_files(\"data_files/urban_rural.csv\", control=True)\n",
    "political_affiliation = clean_files(\"data_files/political_affiliation.csv\", control=True)"
   ]
  },
  {
   "cell_type": "code",
   "execution_count": 401,
   "id": "e8a5acfc",
   "metadata": {},
   "outputs": [
    {
     "name": "stderr",
     "output_type": "stream",
     "text": [
      "/var/folders/2b/1mk8fdhx1_n4721rb_xg8x4h0000gn/T/ipykernel_39372/3877520494.py:6: FutureWarning: In a future version, `df.iloc[:, i] = newvals` will attempt to set the values inplace instead of always setting a new array. To retain the old behavior, use either `df[df.columns[i]] = newvals` or, if columns are non-unique, `df.isetitem(i, newvals)`\n",
      "  population.loc[:,col] = population[col].astype(str).apply(remove_commas).astype(int)\n",
      "/var/folders/2b/1mk8fdhx1_n4721rb_xg8x4h0000gn/T/ipykernel_39372/3877520494.py:13: FutureWarning: In a future version, `df.iloc[:, i] = newvals` will attempt to set the values inplace instead of always setting a new array. To retain the old behavior, use either `df[df.columns[i]] = newvals` or, if columns are non-unique, `df.isetitem(i, newvals)`\n",
      "  free_reduced_meals.loc[:,col] = free_reduced_meals[col].astype(str).apply(remove_percentage).astype(float)\n"
     ]
    }
   ],
   "source": [
    "# remove commas from data\n",
    "def remove_commas(string):\n",
    "    return re.sub(\",\", \"\", string)\n",
    "\n",
    "for col in population.columns:\n",
    "    population.loc[:,col] = population[col].astype(str).apply(remove_commas).astype(int)\n",
    "    \n",
    "# remove percentage signs from data\n",
    "def remove_percentage(string):\n",
    "    return re.sub(\"%\", \"\", string)\n",
    "\n",
    "for col in free_reduced_meals.columns:\n",
    "    free_reduced_meals.loc[:,col] = free_reduced_meals[col].astype(str).apply(remove_percentage).astype(float)\n",
    "    \n",
    "def remove_dollar(string):\n",
    "    return re.sub(\"\\$\", \"\", string)\n",
    "\n",
    "for col in wealth_metrics.columns:\n",
    "    wealth_metrics.loc[:,col] = wealth_metrics[col].astype(str).apply(remove_dollar)\n",
    "    wealth_metrics.loc[:,col] = wealth_metrics[col].astype(str).apply(remove_commas)\n",
    "    "
   ]
  },
  {
   "cell_type": "code",
   "execution_count": 402,
   "id": "eb59b284",
   "metadata": {},
   "outputs": [],
   "source": [
    "def res_to_df(res):\n",
    "    \"\"\"\n",
    "    Transform the result of an statsmodels results table to\n",
    "    a pandas dataframe\"\"\"\n",
    "    pvals = res.pvalues\n",
    "    coeff = res.params\n",
    "    conf_lower = res.conf_int()[0]\n",
    "    conf_higher = res.conf_int()[1]\n",
    "    df = pd.DataFrame(\n",
    "        {\n",
    "            \"pvals\": pvals,\n",
    "            \"coeff\": coeff,\n",
    "            \"conf_lower\": conf_lower,\n",
    "            \"conf_higher\": conf_higher,\n",
    "        }\n",
    "    )\n",
    "    cols = [\"coeff\", \"pvals\", \"conf_lower\", \"conf_higher\"]\n",
    "    df = df[cols]\n",
    "    df.reset_index(inplace=True)\n",
    "    df.columns = [\"name\"] + cols\n",
    "    return df"
   ]
  },
  {
   "cell_type": "code",
   "execution_count": 403,
   "id": "e65edcdb",
   "metadata": {},
   "outputs": [],
   "source": [
    "# convert crime rates from numbers to per capita\n",
    "violent_crime.astype(int)\n",
    "per_capita_crime = violent_crime / population\n",
    "\n",
    "property_crime.astype(int)\n",
    "per_capita_property_crime = property_crime / population\n",
    "\n",
    "urban_rural.columns = ['total_units', 'urban_units', 'rural_units']\n",
    "\n",
    "urban_rural.urban_units = urban_rural.urban_units / urban_rural.total_units\n",
    "urban_rural.rural_units = urban_rural.rural_units / urban_rural.total_units\n"
   ]
  },
  {
   "cell_type": "code",
   "execution_count": 404,
   "id": "e2e92179",
   "metadata": {},
   "outputs": [],
   "source": [
    "wealth_metrics.columns = ['population', 'population_density', 'per_capita_income', 'median_household_income', 'median_family_income']\n",
    "median_household_income = wealth_metrics.drop(['population', 'population_density', 'per_capita_income', 'median_family_income'], axis=1)\n",
    "percent_urban = urban_rural.drop(['total_units', 'rural_units'], axis=1)\n",
    "\n",
    "republican = political_affiliation.drop([\"District Attorney (2022)\", \"Attorney General (2022)\", \"AG % Margin of Victory (2022)\"], axis=1)\n"
   ]
  },
  {
   "cell_type": "code",
   "execution_count": 405,
   "id": "3ad4f277",
   "metadata": {},
   "outputs": [],
   "source": [
    "# unstack all the dataframes and rename their columns\n",
    "population_all = population.unstack().reset_index()\n",
    "per_capita_violent_all = per_capita_crime.unstack().reset_index()\n",
    "per_capita_property_all = per_capita_property_crime.unstack().reset_index()\n",
    "unemployment_all = unemployment.unstack().reset_index()\n",
    "health_factors_all = health_factors.unstack().reset_index()\n",
    "health_outcomes_all = health_outcomes.unstack().reset_index()\n",
    "od_deaths_all = od_deaths.unstack().reset_index()\n",
    "free_reduced_meals_all = free_reduced_meals.unstack().reset_index()\n",
    "graduation_rates_all = graduation_rates.unstack().reset_index()\n",
    "\n",
    "population_all.columns = ['year', 'county', 'population']\n",
    "per_capita_violent_all.columns = ['year', 'county', 'violent_crime_rate']\n",
    "per_capita_property_all.columns = ['year', 'county', 'property_crime_rate']\n",
    "unemployment_all.columns = ['year', 'county', 'unemployment']\n",
    "health_factors_all.columns = ['year', 'county', 'health_factors']\n",
    "health_outcomes_all.columns = ['year', 'county', 'health_outcomes']\n",
    "od_deaths_all.columns = ['year', 'county', 'od_deaths']\n",
    "free_reduced_meals_all.columns = ['year', 'county', 'free_reduced_meals']\n",
    "graduation_rates_all.columns = ['year', 'county', 'graduation_rate']\n",
    "\n",
    "def combine_dfs(df_list):\n",
    "    main_df = per_capita_violent_all\n",
    "    for df in df_list:\n",
    "        main_df = pd.merge(main_df, df)\n",
    "    return main_df\n",
    "\n",
    "clean_data = combine_dfs([population_all, per_capita_property_all, unemployment_all, health_factors_all, \n",
    "                          health_outcomes_all, od_deaths_all, graduation_rates_all, free_reduced_meals_all])\n"
   ]
  },
  {
   "cell_type": "code",
   "execution_count": 406,
   "id": "390661bc",
   "metadata": {},
   "outputs": [],
   "source": [
    "def plot_rates(x, y, title, xlabel, ylabel):\n",
    "    plt.scatter(x, y)\n",
    "    plt.title(title)\n",
    "    plt.xlabel(xlabel)\n",
    "    plt.ylabel(ylabel)"
   ]
  },
  {
   "cell_type": "code",
   "execution_count": 407,
   "id": "310a5f5d",
   "metadata": {},
   "outputs": [],
   "source": [
    "clean_data[\"median_household_income\"] = clean_data.county.map(median_household_income.iloc[:,0])\n",
    "clean_data[\"percent_urban\"] = clean_data.county.map(percent_urban.iloc[:,0])\n",
    "clean_data[\"republican\"] = clean_data.county.map(republican.iloc[:,0])"
   ]
  },
  {
   "cell_type": "code",
   "execution_count": 425,
   "id": "30addc1f",
   "metadata": {},
   "outputs": [
    {
     "data": {
      "text/plain": [
       "[<matplotlib.lines.Line2D at 0x29310ee50>]"
      ]
     },
     "execution_count": 425,
     "metadata": {},
     "output_type": "execute_result"
    },
    {
     "data": {
      "image/png": "[encoded data removed]",
      "text/plain": [
       "<Figure size 640x480 with 1 Axes>"
      ]
     },
     "metadata": {},
     "output_type": "display_data"
    }
   ],
   "source": [
    "plot_rates(clean_data.unemployment, clean_data.violent_crime_rate, \n",
    "           \"Unemployment vs. Violent Crime for California Counties\",\n",
    "          \"Unemployment Rate\", \"Violent Crime Rate\")\n",
    "\n",
    "a, b = np.polyfit(clean_data.unemployment, clean_data.violent_crime_rate, 1)\n",
    "plt.plot(clean_data.unemployment, a * clean_data.unemployment + b, color=\"g\")"
   ]
  },
  {
   "cell_type": "code",
   "execution_count": 409,
   "id": "a4bf81a8",
   "metadata": {},
   "outputs": [],
   "source": [
    "# plot_rates(clean_data.graduation_rate, clean_data.property_crime_rate, \n",
    "#            \"Graduation Rate vs. Property Crime for California Counties\",\n",
    "#           \"Graduation Rate\", \"Property Crime Rate\")"
   ]
  },
  {
   "cell_type": "code",
   "execution_count": 410,
   "id": "22e4bce7",
   "metadata": {},
   "outputs": [],
   "source": [
    "clean_data.median_household_income = clean_data.median_household_income.astype(float)"
   ]
  },
  {
   "cell_type": "code",
   "execution_count": 411,
   "id": "205f2829",
   "metadata": {},
   "outputs": [],
   "source": [
    "fit = smf.ols(\n",
    "    \"violent_crime_rate ~ 1 + population + republican + unemployment + health_factors + median_household_income + health_outcomes + od_deaths + graduation_rate + free_reduced_meals + percent_urban + C(year)\",\n",
    "    clean_data,\n",
    ").fit(cov_type=\"HC1\")\n",
    "res = res_to_df(fit).set_index(\"name\")"
   ]
  },
  {
   "cell_type": "code",
   "execution_count": 412,
   "id": "4c2d3c28",
   "metadata": {},
   "outputs": [
    {
     "data": {
      "text/plain": [
       "0.3182727188304117"
      ]
     },
     "execution_count": 412,
     "metadata": {},
     "output_type": "execute_result"
    }
   ],
   "source": [
    "# residualize data for income\n",
    "income_effect = pd.DataFrame()\n",
    "\n",
    "fit_income_a = smf.ols(\n",
    "    \"violent_crime_rate ~ 1 + population + republican + unemployment + health_factors + health_outcomes + od_deaths + graduation_rate + free_reduced_meals + percent_urban + C(year)\",\n",
    "    clean_data,\n",
    ").fit(cov_type=\"HC1\")\n",
    "\n",
    "fit_income_b = smf.ols(\n",
    "    \"median_household_income ~ 1 + population + republican + unemployment + health_factors + health_outcomes + od_deaths + graduation_rate + free_reduced_meals + percent_urban + C(year)\",\n",
    "    clean_data,\n",
    ").fit(cov_type=\"HC1\")\n",
    "\n",
    "income_effect[\"crime_residuals\"] = (clean_data.violent_crime_rate - fit_income_a.predict(clean_data))\n",
    "income_effect[\"income_residuals\"] = (clean_data.median_household_income - fit_income_b.predict(clean_data))\n",
    "\n",
    "# just to check that coefficients are the same as without doing the residuals\n",
    "fit_income_c = smf.ols(\n",
    "    \"crime_residuals ~ income_residuals\",\n",
    "    income_effect,\n",
    ").fit(cov_type=\"HC1\")\n",
    "res_income_c = res_to_df(fit_income_c).set_index(\"name\")\n",
    "\n",
    "# take the difference between 10th and 90th percentile, multiply it by coefficient\n",
    "stats = income_effect.describe([0.1,0.9])\n",
    "x = res[\"coeff\"].loc[\"median_household_income\"] * (stats.income_residuals.loc['90%'] - stats.income_residuals.loc['10%'])\n",
    "\n",
    "# percent of violent_crime difference attributed to income\n",
    "x / clean_data.violent_crime_rate.mean()\n",
    "\n",
    "# plot residuals\n",
    "# plt.scatter(income_effect.income_residuals, income_effect.crime_residuals)"
   ]
  },
  {
   "cell_type": "code",
   "execution_count": 413,
   "id": "fba99781",
   "metadata": {},
   "outputs": [
    {
     "data": {
      "text/plain": [
       "-0.3427602833816752"
      ]
     },
     "execution_count": 413,
     "metadata": {},
     "output_type": "execute_result"
    }
   ],
   "source": [
    "# residualize data for graduation rate\n",
    "grad_rate_effect = pd.DataFrame()\n",
    "\n",
    "fit_grad_a = smf.ols(\n",
    "    \"violent_crime_rate ~ 1 + population + republican + median_household_income + unemployment + health_factors + health_outcomes + od_deaths + free_reduced_meals + percent_urban + C(year)\",\n",
    "    clean_data,\n",
    ").fit(cov_type=\"HC1\")\n",
    "\n",
    "fit_grad_b = smf.ols(\n",
    "    \"graduation_rate ~ 1 + population + republican + median_household_income + unemployment + health_factors + health_outcomes + od_deaths + free_reduced_meals + percent_urban + C(year)\",\n",
    "    clean_data,\n",
    ").fit(cov_type=\"HC1\")\n",
    "\n",
    "grad_rate_effect[\"crime_residuals\"] = (clean_data.violent_crime_rate - fit_grad_a.predict(clean_data))\n",
    "grad_rate_effect[\"grad_residuals\"] = (clean_data.graduation_rate - fit_grad_b.predict(clean_data))\n",
    "\n",
    "# take the difference between 10th and 90th percentile, multiply it by coefficient\n",
    "stats = grad_rate_effect.describe([0.1,0.9])\n",
    "y = res[\"coeff\"].loc[\"graduation_rate\"] * (stats.grad_residuals.loc['90%'] - stats.grad_residuals.loc['10%'])\n",
    "\n",
    "# percent of violent_crime difference attributed to grad rate\n",
    "y / clean_data.violent_crime_rate.mean()\n"
   ]
  },
  {
   "cell_type": "code",
   "execution_count": 414,
   "id": "d432d7d8",
   "metadata": {},
   "outputs": [
    {
     "data": {
      "text/plain": [
       "0.3746082735216589"
      ]
     },
     "execution_count": 414,
     "metadata": {},
     "output_type": "execute_result"
    }
   ],
   "source": [
    "# residualize data for health outcomes\n",
    "health_outcomes_effect = pd.DataFrame()\n",
    "\n",
    "fit_health_a = smf.ols(\n",
    "    \"violent_crime_rate ~ 1 + population + republican + median_household_income + graduation_rate + unemployment + health_factors + od_deaths + free_reduced_meals + percent_urban + C(year)\",\n",
    "    clean_data,\n",
    ").fit(cov_type=\"HC1\")\n",
    "\n",
    "fit_health_b = smf.ols(\n",
    "    \"health_outcomes ~ 1 + population + republican + median_household_income + unemployment + health_factors + graduation_rate + od_deaths + free_reduced_meals + percent_urban + C(year)\",\n",
    "    clean_data,\n",
    ").fit(cov_type=\"HC1\")\n",
    "\n",
    "health_outcomes_effect[\"crime_residuals\"] = (clean_data.violent_crime_rate - fit_health_a.predict(clean_data))\n",
    "health_outcomes_effect[\"ho_residuals\"] = (clean_data.health_outcomes - fit_health_b.predict(clean_data))\n",
    "\n",
    "# take the difference between 10th and 90th percentile, multiply it by coefficient\n",
    "stats = health_outcomes_effect.describe([0.1,0.9])\n",
    "z = res[\"coeff\"].loc[\"health_outcomes\"] * (stats.ho_residuals.loc['90%'] - stats.ho_residuals.loc['10%'])\n",
    "\n",
    "# percent of violent_crime difference attributed to health outcomes\n",
    "z / clean_data.violent_crime_rate.mean()\n"
   ]
  },
  {
   "cell_type": "code",
   "execution_count": 417,
   "id": "6800b424",
   "metadata": {},
   "outputs": [
    {
     "data": {
      "text/plain": [
       "0.11084392108752454"
      ]
     },
     "execution_count": 417,
     "metadata": {},
     "output_type": "execute_result"
    }
   ],
   "source": [
    "# residualize data for unemployment\n",
    "unemployment_effect = pd.DataFrame()\n",
    "\n",
    "fit_unemployment_a = smf.ols(\n",
    "    \"violent_crime_rate ~ 1 + population + republican + median_household_income + graduation_rate + health_outcomes + health_factors + od_deaths + free_reduced_meals + percent_urban + C(year)\",\n",
    "    clean_data,\n",
    ").fit(cov_type=\"HC1\")\n",
    "\n",
    "fit_unemployment_b = smf.ols(\n",
    "    \"unemployment ~ 1 + population + republican + median_household_income + health_outcomes + health_factors + graduation_rate + od_deaths + free_reduced_meals + percent_urban + C(year)\",\n",
    "    clean_data,\n",
    ").fit(cov_type=\"HC1\")\n",
    "\n",
    "unemployment_effect[\"crime_residuals\"] = (clean_data.violent_crime_rate - fit_unemployment_a.predict(clean_data))\n",
    "unemployment_effect[\"unemployment_residuals\"] = (clean_data.unemployment - fit_unemployment_b.predict(clean_data))\n",
    "\n",
    "# take the difference between 10th and 90th percentile, multiply it by coefficient\n",
    "stats = unemployment_effect.describe([0.1,0.9])\n",
    "a = res[\"coeff\"].loc[\"unemployment\"] * (stats.unemployment_residuals.loc['90%'] - stats.unemployment_residuals.loc['10%'])\n",
    "\n",
    "# percent of violent_crime difference attributed to unemployment\n",
    "a / clean_data.violent_crime_rate.mean()"
   ]
  },
  {
   "cell_type": "code",
   "execution_count": 364,
   "id": "236737e6",
   "metadata": {},
   "outputs": [
    {
     "name": "stderr",
     "output_type": "stream",
     "text": [
      "/var/folders/2b/1mk8fdhx1_n4721rb_xg8x4h0000gn/T/ipykernel_39372/1212826683.py:3: FutureWarning: The default value of numeric_only in DataFrame.mean is deprecated. In a future version, it will default to False. In addition, specifying 'numeric_only=None' is deprecated. Select only valid columns or specify the value of numeric_only to silence this warning.\n",
      "  res[\"magnitude\"] = abs(res[\"coeff\"]) * clean_data.mean()\n"
     ]
    }
   ],
   "source": [
    "# not necessary anymore, now that we're using residuals\n",
    "res[\"magnitude\"] = abs(res[\"coeff\"]) * clean_data.mean()\n",
    "\n",
    "stats_og = clean_data.describe([0.1,0.9])\n",
    "res[\"coeff\"] * (stats_og.loc['90%'] - stats_og.loc['10%'])"
   ]
  },
  {
   "cell_type": "code",
   "execution_count": 373,
   "id": "d7da6cbb",
   "metadata": {},
   "outputs": [],
   "source": []
  }
 ],
 "metadata": {
  "kernelspec": {
   "display_name": "Python 3 (ipykernel)",
   "language": "python",
   "name": "python3"
  },
  "language_info": {
   "codemirror_mode": {
    "name": "ipython",
    "version": 3
   },
   "file_extension": ".py",
   "mimetype": "text/x-python",
   "name": "python",
   "nbconvert_exporter": "python",
   "pygments_lexer": "ipython3",
   "version": "3.8.13"
  },
  "toc": {
   "base_numbering": 1,
   "nav_menu": {},
   "number_sections": true,
   "sideBar": true,
   "skip_h1_title": false,
   "title_cell": "Table of Contents",
   "title_sidebar": "Contents",
   "toc_cell": true,
   "toc_position": {},
   "toc_section_display": true,
   "toc_window_display": false
  }
 },
 "nbformat": 4,
 "nbformat_minor": 5
}
