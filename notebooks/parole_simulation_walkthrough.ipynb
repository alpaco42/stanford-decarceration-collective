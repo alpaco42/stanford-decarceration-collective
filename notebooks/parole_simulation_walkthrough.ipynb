{
 "cells": [
  {
   "cell_type": "markdown",
   "id": "59d8c571",
   "metadata": {
    "toc": true
   },
   "source": [
    "<h1>Table of Contents<span class=\"tocSkip\"></span></h1>\n",
    "<div class=\"toc\"><ul class=\"toc-item\"><li><span><a href=\"#Hey-friends-:)\" data-toc-modified-id=\"Hey-friends-:)-1\"><span class=\"toc-item-num\">1&nbsp;&nbsp;</span>Hey friends :)</a></span></li><li><span><a href=\"#Compartment-Architecture\" data-toc-modified-id=\"Compartment-Architecture-2\"><span class=\"toc-item-num\">2&nbsp;&nbsp;</span>Compartment Architecture</a></span></li><li><span><a href=\"#Data-Pre-processing\" data-toc-modified-id=\"Data-Pre-processing-3\"><span class=\"toc-item-num\">3&nbsp;&nbsp;</span>Data Pre-processing</a></span><ul class=\"toc-item\"><li><span><a href=\"#outflows_data\" data-toc-modified-id=\"outflows_data-3.1\"><span class=\"toc-item-num\">3.1&nbsp;&nbsp;</span>outflows_data</a></span></li><li><span><a href=\"#transitions_data\" data-toc-modified-id=\"transitions_data-3.2\"><span class=\"toc-item-num\">3.2&nbsp;&nbsp;</span>transitions_data</a></span></li><li><span><a href=\"#total_population_data\" data-toc-modified-id=\"total_population_data-3.3\"><span class=\"toc-item-num\">3.3&nbsp;&nbsp;</span>total_population_data</a></span></li><li><span><a href=\"#Uploading-our-data\" data-toc-modified-id=\"Uploading-our-data-3.4\"><span class=\"toc-item-num\">3.4&nbsp;&nbsp;</span>Uploading our data</a></span></li></ul></li><li><span><a href=\"#Running-a-baseline\" data-toc-modified-id=\"Running-a-baseline-4\"><span class=\"toc-item-num\">4&nbsp;&nbsp;</span>Running a baseline</a></span></li><li><span><a href=\"#Running-a-policy-scenario\" data-toc-modified-id=\"Running-a-policy-scenario-5\"><span class=\"toc-item-num\">5&nbsp;&nbsp;</span>Running a policy scenario</a></span></li><li><span><a href=\"#Extensions\" data-toc-modified-id=\"Extensions-6\"><span class=\"toc-item-num\">6&nbsp;&nbsp;</span>Extensions</a></span><ul class=\"toc-item\"><li><ul class=\"toc-item\"><li><span><a href=\"#We-collapsed-jail-and-prison-into-a-single-compartment,-but-they-likely-behave-very-differently-in-real-life.-Go-back-to-the-beginning-and-re-do-the-processing-after-adding-a-jail-compartment-to-the-model-architecture.\" data-toc-modified-id=\"We-collapsed-jail-and-prison-into-a-single-compartment,-but-they-likely-behave-very-differently-in-real-life.-Go-back-to-the-beginning-and-re-do-the-processing-after-adding-a-jail-compartment-to-the-model-architecture.-6.0.1\"><span class=\"toc-item-num\">6.0.1&nbsp;&nbsp;</span>We collapsed jail and prison into a single compartment, but they likely behave very differently in real life. Go back to the beginning and re-do the processing after adding a jail compartment to the model architecture.</a></span></li><li><span><a href=\"#Can-you-implement-a-different-policy-(or-the-same-one)-using-a-different-policy-function-from-CompartmentTransitions.apply_reduction()?\" data-toc-modified-id=\"Can-you-implement-a-different-policy-(or-the-same-one)-using-a-different-policy-function-from-CompartmentTransitions.apply_reduction()?-6.0.2\"><span class=\"toc-item-num\">6.0.2&nbsp;&nbsp;</span>Can you implement a different policy (or the same one) using a different policy function from CompartmentTransitions.apply_reduction()?</a></span></li><li><span><a href=\"#Can-you-add-recidivism-into-the-model?\" data-toc-modified-id=\"Can-you-add-recidivism-into-the-model?-6.0.3\"><span class=\"toc-item-num\">6.0.3&nbsp;&nbsp;</span>Can you add recidivism into the model?</a></span></li></ul></li></ul></li></ul></div>"
   ]
  },
  {
   "cell_type": "markdown",
   "id": "6e0b4c2f",
   "metadata": {},
   "source": [
    "# Hey friends :)\n",
    "This notebook will walk you thru running your first policy simulation (woooooo!). You should run each cell of code– starting with the imports under this text–working down the notebook sequentially. There will be text boxes like this one instructing you what you need to fill in to get stuff working. \n",
    "\n",
    "You're encouraged to experiment, visualize, and add cells as you please. You don't need to understand every line of code you're running, but obviously you can look up functions and stuff that did nifty things you want to be able to reproduce. DM Tori or Paco on Slack if you get stuck <3"
   ]
  },
  {
   "cell_type": "code",
   "execution_count": 1,
   "id": "8b519419",
   "metadata": {},
   "outputs": [],
   "source": [
    "import os\n",
    "import sys\n",
    "sys.path.insert(0, os.path.relpath('../../../../..')) \n",
    "\n",
    "import numpy as np\n",
    "import pandas as pd\n",
    "import matplotlib.pyplot as plt\n",
    "\n",
    "from recidiviz.calculator.modeling.population_projection.super_simulation.super_simulation_factory import SuperSimulationFactory\n",
    "from recidiviz.calculator.modeling.population_projection.transition_table import TransitionTable\n",
    "from recidiviz.calculator.modeling.population_projection.spark_policy import SparkPolicy\n",
    "from recidiviz.calculator.modeling.population_projection.utils.spark_bq_utils import upload_spark_model_inputs\n",
    "import pandas as pd\n",
    "from functools import partial\n",
    "\n",
    "pd.set_option('display.max_rows', 500)"
   ]
  },
  {
   "cell_type": "markdown",
   "id": "f99227b4",
   "metadata": {},
   "source": [
    "# Compartment Architecture\n",
    "The first step in Spark modeling is always to decide what compartment architecture you want to build around. In our case, we're gonna use this one:\n",
    "\n",
    "**'pretrial' (shell compartment) --> 'prison' (full compartment) --> 'release' (full compartment)**\n",
    "\n",
    "Make sure you use these three compartment names in your data processing!"
   ]
  },
  {
   "cell_type": "markdown",
   "id": "a25d7b43",
   "metadata": {},
   "source": [
    "# Data Pre-processing\n",
    "We're skipping the early part for now, but you'll still need to get from \"clean\" data to the data inputs that the Spark model ingests. Feel free to run this cell without thinking about it too much."
   ]
  },
  {
   "cell_type": "code",
   "execution_count": 2,
   "id": "eb94245e",
   "metadata": {},
   "outputs": [
    {
     "data": {
      "text/html": [
       "<div>\n",
       "<style scoped>\n",
       "    .dataframe tbody tr th:only-of-type {\n",
       "        vertical-align: middle;\n",
       "    }\n",
       "\n",
       "    .dataframe tbody tr th {\n",
       "        vertical-align: top;\n",
       "    }\n",
       "\n",
       "    .dataframe thead th {\n",
       "        text-align: right;\n",
       "    }\n",
       "</style>\n",
       "<table border=\"1\" class=\"dataframe\">\n",
       "  <thead>\n",
       "    <tr style=\"text-align: right;\">\n",
       "      <th></th>\n",
       "      <th>offense_date</th>\n",
       "      <th>OffLName</th>\n",
       "      <th>OffFName</th>\n",
       "      <th>crime_type</th>\n",
       "      <th>offense_code</th>\n",
       "      <th>crime</th>\n",
       "      <th>judge_id</th>\n",
       "      <th>sentence_type_code</th>\n",
       "      <th>effective_sentence_months</th>\n",
       "      <th>fiscal_year</th>\n",
       "      <th>life_sentence</th>\n",
       "    </tr>\n",
       "  </thead>\n",
       "  <tbody>\n",
       "    <tr>\n",
       "      <th>0</th>\n",
       "      <td>5/20/2017</td>\n",
       "      <td>MOORE</td>\n",
       "      <td>KENNETH</td>\n",
       "      <td>ASSAULT</td>\n",
       "      <td>ASL1316</td>\n",
       "      <td>ASL1316F6</td>\n",
       "      <td>0</td>\n",
       "      <td>3.0</td>\n",
       "      <td>18.0</td>\n",
       "      <td>2018.0</td>\n",
       "      <td>0.0</td>\n",
       "    </tr>\n",
       "    <tr>\n",
       "      <th>1</th>\n",
       "      <td>4/25/2018</td>\n",
       "      <td>CLINE</td>\n",
       "      <td>MATTHEW</td>\n",
       "      <td>ASSAULT</td>\n",
       "      <td>ASL1316</td>\n",
       "      <td>ASL1316F6</td>\n",
       "      <td>0</td>\n",
       "      <td>3.0</td>\n",
       "      <td>10.0</td>\n",
       "      <td>2019.0</td>\n",
       "      <td>0.0</td>\n",
       "    </tr>\n",
       "    <tr>\n",
       "      <th>4</th>\n",
       "      <td>12/25/2016</td>\n",
       "      <td>MILLER</td>\n",
       "      <td>MARCUS</td>\n",
       "      <td>ASSAULT</td>\n",
       "      <td>ASL1316</td>\n",
       "      <td>ASL1316F6</td>\n",
       "      <td>10DB</td>\n",
       "      <td>3.0</td>\n",
       "      <td>7.0</td>\n",
       "      <td>2017.0</td>\n",
       "      <td>0.0</td>\n",
       "    </tr>\n",
       "    <tr>\n",
       "      <th>5</th>\n",
       "      <td>11/17/2018</td>\n",
       "      <td>SPRADLEY</td>\n",
       "      <td>CALEB</td>\n",
       "      <td>ASSAULT</td>\n",
       "      <td>ASL1316</td>\n",
       "      <td>ASL1316F6</td>\n",
       "      <td>10DB</td>\n",
       "      <td>3.0</td>\n",
       "      <td>7.0</td>\n",
       "      <td>2019.0</td>\n",
       "      <td>0.0</td>\n",
       "    </tr>\n",
       "    <tr>\n",
       "      <th>7</th>\n",
       "      <td>12/11/2016</td>\n",
       "      <td>JAMES</td>\n",
       "      <td>ERIC</td>\n",
       "      <td>ASSAULT</td>\n",
       "      <td>ASL1316</td>\n",
       "      <td>ASL1316F6</td>\n",
       "      <td>10KW</td>\n",
       "      <td>3.0</td>\n",
       "      <td>14.0</td>\n",
       "      <td>2017.0</td>\n",
       "      <td>0.0</td>\n",
       "    </tr>\n",
       "  </tbody>\n",
       "</table>\n",
       "</div>"
      ],
      "text/plain": [
       "  offense_date  OffLName OffFName crime_type offense_code      crime judge_id  \\\n",
       "0    5/20/2017     MOORE  KENNETH    ASSAULT      ASL1316  ASL1316F6        0   \n",
       "1    4/25/2018     CLINE  MATTHEW    ASSAULT      ASL1316  ASL1316F6        0   \n",
       "4   12/25/2016    MILLER   MARCUS    ASSAULT      ASL1316  ASL1316F6     10DB   \n",
       "5   11/17/2018  SPRADLEY    CALEB    ASSAULT      ASL1316  ASL1316F6     10DB   \n",
       "7   12/11/2016     JAMES     ERIC    ASSAULT      ASL1316  ASL1316F6     10KW   \n",
       "\n",
       "   sentence_type_code  effective_sentence_months  fiscal_year  life_sentence  \n",
       "0                 3.0                       18.0       2018.0            0.0  \n",
       "1                 3.0                       10.0       2019.0            0.0  \n",
       "4                 3.0                        7.0       2017.0            0.0  \n",
       "5                 3.0                        7.0       2019.0            0.0  \n",
       "7                 3.0                       14.0       2017.0            0.0  "
      ]
     },
     "execution_count": 2,
     "metadata": {},
     "output_type": "execute_result"
    }
   ],
   "source": [
    "raw_va_sentence_df = pd.read_csv(\n",
    "    '../state/VA/VA_data/unprocessed_va_historical_sentences_v2.csv',\n",
    "    sep='\\t'\n",
    ")\n",
    "raw_va_sentence_df['crime_type'] = raw_va_sentence_df['Offense Group'].ffill()\n",
    "raw_va_sentence_df['offense_code'] = raw_va_sentence_df['VCC'].ffill()\n",
    "raw_va_sentence_df['crime'] = raw_va_sentence_df['Off1VCC'].ffill()\n",
    "raw_va_sentence_df['judge_id'] = raw_va_sentence_df['JudgeID'].ffill()\n",
    "raw_va_sentence_df['sentence_type_code'] = raw_va_sentence_df['ActDisp'].ffill()\n",
    "raw_va_sentence_df['effective_sentence_months'] = raw_va_sentence_df['effsent']\n",
    "raw_va_sentence_df['fiscal_year'] = raw_va_sentence_df['FiscalYr'].ffill()\n",
    "raw_va_sentence_df['life_sentence'] = raw_va_sentence_df['EffLif']\n",
    "raw_va_sentence_df = raw_va_sentence_df.rename({'Off1Date':'offense_date'}, axis=1)\n",
    "raw_va_sentence_df = raw_va_sentence_df[raw_va_sentence_df.sentence_type_code != 1]\n",
    "raw_va_sentence_df = raw_va_sentence_df[raw_va_sentence_df.effective_sentence_months != 0]\n",
    "\n",
    "\n",
    "raw_va_sentence_df = raw_va_sentence_df[~raw_va_sentence_df['crime_type'].str.contains('Total')]\n",
    "raw_va_sentence_df = raw_va_sentence_df.drop(\n",
    "    ['VCC', 'Offense Group', 'Off1VCC', 'JudgeID', 'ActDisp', 'effsent', 'FiscalYr', 'EffLif'],\n",
    "    axis=1\n",
    ")\n",
    "raw_va_sentence_df.head()"
   ]
  },
  {
   "cell_type": "markdown",
   "id": "22536ebc",
   "metadata": {},
   "source": [
    "We can see the first few rows of the dataset above, but let's take a slightly more comprehensive peak at what's in here before we move on! You can run the following cells without changing anything, but feel free to play with them anyway."
   ]
  },
  {
   "cell_type": "code",
   "execution_count": 3,
   "id": "a082d9a1",
   "metadata": {},
   "outputs": [
    {
     "data": {
      "text/html": [
       "<div>\n",
       "<style scoped>\n",
       "    .dataframe tbody tr th:only-of-type {\n",
       "        vertical-align: middle;\n",
       "    }\n",
       "\n",
       "    .dataframe tbody tr th {\n",
       "        vertical-align: top;\n",
       "    }\n",
       "\n",
       "    .dataframe thead th {\n",
       "        text-align: right;\n",
       "    }\n",
       "</style>\n",
       "<table border=\"1\" class=\"dataframe\">\n",
       "  <thead>\n",
       "    <tr style=\"text-align: right;\">\n",
       "      <th></th>\n",
       "      <th>sentence_type_code</th>\n",
       "      <th>effective_sentence_months</th>\n",
       "      <th>fiscal_year</th>\n",
       "      <th>life_sentence</th>\n",
       "    </tr>\n",
       "  </thead>\n",
       "  <tbody>\n",
       "    <tr>\n",
       "      <th>count</th>\n",
       "      <td>52528.000000</td>\n",
       "      <td>52291.000000</td>\n",
       "      <td>52528.000000</td>\n",
       "      <td>51514.000000</td>\n",
       "    </tr>\n",
       "    <tr>\n",
       "      <th>mean</th>\n",
       "      <td>2.647102</td>\n",
       "      <td>26.507235</td>\n",
       "      <td>2017.991186</td>\n",
       "      <td>0.001398</td>\n",
       "    </tr>\n",
       "    <tr>\n",
       "      <th>std</th>\n",
       "      <td>0.477876</td>\n",
       "      <td>70.993842</td>\n",
       "      <td>0.817416</td>\n",
       "      <td>0.037360</td>\n",
       "    </tr>\n",
       "    <tr>\n",
       "      <th>min</th>\n",
       "      <td>2.000000</td>\n",
       "      <td>0.032854</td>\n",
       "      <td>2017.000000</td>\n",
       "      <td>0.000000</td>\n",
       "    </tr>\n",
       "    <tr>\n",
       "      <th>5%</th>\n",
       "      <td>2.000000</td>\n",
       "      <td>0.985626</td>\n",
       "      <td>2017.000000</td>\n",
       "      <td>0.000000</td>\n",
       "    </tr>\n",
       "    <tr>\n",
       "      <th>25%</th>\n",
       "      <td>2.000000</td>\n",
       "      <td>4.000000</td>\n",
       "      <td>2017.000000</td>\n",
       "      <td>0.000000</td>\n",
       "    </tr>\n",
       "    <tr>\n",
       "      <th>50%</th>\n",
       "      <td>3.000000</td>\n",
       "      <td>12.000000</td>\n",
       "      <td>2018.000000</td>\n",
       "      <td>0.000000</td>\n",
       "    </tr>\n",
       "    <tr>\n",
       "      <th>75%</th>\n",
       "      <td>3.000000</td>\n",
       "      <td>24.000000</td>\n",
       "      <td>2019.000000</td>\n",
       "      <td>0.000000</td>\n",
       "    </tr>\n",
       "    <tr>\n",
       "      <th>95%</th>\n",
       "      <td>3.000000</td>\n",
       "      <td>96.000000</td>\n",
       "      <td>2019.000000</td>\n",
       "      <td>0.000000</td>\n",
       "    </tr>\n",
       "    <tr>\n",
       "      <th>max</th>\n",
       "      <td>3.000000</td>\n",
       "      <td>5052.000000</td>\n",
       "      <td>2019.000000</td>\n",
       "      <td>1.000000</td>\n",
       "    </tr>\n",
       "  </tbody>\n",
       "</table>\n",
       "</div>"
      ],
      "text/plain": [
       "       sentence_type_code  effective_sentence_months   fiscal_year  \\\n",
       "count        52528.000000               52291.000000  52528.000000   \n",
       "mean             2.647102                  26.507235   2017.991186   \n",
       "std              0.477876                  70.993842      0.817416   \n",
       "min              2.000000                   0.032854   2017.000000   \n",
       "5%               2.000000                   0.985626   2017.000000   \n",
       "25%              2.000000                   4.000000   2017.000000   \n",
       "50%              3.000000                  12.000000   2018.000000   \n",
       "75%              3.000000                  24.000000   2019.000000   \n",
       "95%              3.000000                  96.000000   2019.000000   \n",
       "max              3.000000                5052.000000   2019.000000   \n",
       "\n",
       "       life_sentence  \n",
       "count   51514.000000  \n",
       "mean        0.001398  \n",
       "std         0.037360  \n",
       "min         0.000000  \n",
       "5%          0.000000  \n",
       "25%         0.000000  \n",
       "50%         0.000000  \n",
       "75%         0.000000  \n",
       "95%         0.000000  \n",
       "max         1.000000  "
      ]
     },
     "execution_count": 3,
     "metadata": {},
     "output_type": "execute_result"
    }
   ],
   "source": [
    "# Always a good place to start!\n",
    "raw_va_sentence_df.describe([0.05,0.25,0.5,0.75,0.95])"
   ]
  },
  {
   "cell_type": "code",
   "execution_count": 4,
   "id": "84aae00d",
   "metadata": {},
   "outputs": [
    {
     "data": {
      "image/png": "[encoded data removed]",
      "text/plain": [
       "<Figure size 432x288 with 1 Axes>"
      ]
     },
     "metadata": {
      "needs_background": "light"
     },
     "output_type": "display_data"
    }
   ],
   "source": [
    "# Combine first and last name into one full name and check the number of rows of data per person\n",
    "raw_va_sentence_df['full_name'] = raw_va_sentence_df.OffFName + ' ' + raw_va_sentence_df.OffLName\n",
    "sentences_per_person = raw_va_sentence_df.groupby('full_name').count().sort_values('OffLName', ascending=False)\n",
    "plt.hist(sentences_per_person.OffLName, bins = 30)\n",
    "plt.ylabel('number of people')\n",
    "plt.xlabel('number of rows of data per person')\n",
    "plt.yscale('log')"
   ]
  },
  {
   "cell_type": "code",
   "execution_count": 5,
   "id": "58fce95e",
   "metadata": {},
   "outputs": [
    {
     "data": {
      "text/plain": [
       "Text(0.5, 0, 'length of sentence in months')"
      ]
     },
     "execution_count": 5,
     "metadata": {},
     "output_type": "execute_result"
    },
    {
     "data": {
      "image/png": "[encoded data removed]",
      "text/plain": [
       "<Figure size 432x288 with 1 Axes>"
      ]
     },
     "metadata": {
      "needs_background": "light"
     },
     "output_type": "display_data"
    }
   ],
   "source": [
    "# Cap sentence lengths at 25 years, then plot the sentence length distribution in months.\n",
    "temp = raw_va_sentence_df.copy()\n",
    "temp.loc[temp.effective_sentence_months > 12 * 25, 'effective_sentence_months'] = 12 * 25\n",
    "plt.hist(temp.effective_sentence_months, bins=40)\n",
    "plt.ylabel('number of people')\n",
    "plt.xlabel('length of sentence in months')\n",
    "# plt.yscale('log')"
   ]
  },
  {
   "cell_type": "markdown",
   "id": "26ef54a5",
   "metadata": {},
   "source": [
    "## outflows_data\n",
    "Ok, time to process our data! First up is the outflows_data table. As a reminder, outflows_data counts the number of people transitioning historically into and throughout the system. It should have one row of data per sub-group per time-step per compartment (although in our case we'll only bother with outflows for the pretrial compartment). Here is what a final outflows_data table should look like:"
   ]
  },
  {
   "cell_type": "code",
   "execution_count": 6,
   "id": "5c7d0ece",
   "metadata": {},
   "outputs": [
    {
     "data": {
      "text/html": [
       "<div>\n",
       "<style scoped>\n",
       "    .dataframe tbody tr th:only-of-type {\n",
       "        vertical-align: middle;\n",
       "    }\n",
       "\n",
       "    .dataframe tbody tr th {\n",
       "        vertical-align: top;\n",
       "    }\n",
       "\n",
       "    .dataframe thead th {\n",
       "        text-align: right;\n",
       "    }\n",
       "</style>\n",
       "<table border=\"1\" class=\"dataframe\">\n",
       "  <thead>\n",
       "    <tr style=\"text-align: right;\">\n",
       "      <th></th>\n",
       "      <th>compartment</th>\n",
       "      <th>outflow_to</th>\n",
       "      <th>crime_type</th>\n",
       "      <th>time_step</th>\n",
       "      <th>total_population</th>\n",
       "    </tr>\n",
       "  </thead>\n",
       "  <tbody>\n",
       "    <tr>\n",
       "      <th>0</th>\n",
       "      <td>pretrial</td>\n",
       "      <td>probation</td>\n",
       "      <td>VIOLENT</td>\n",
       "      <td>0</td>\n",
       "      <td>250</td>\n",
       "    </tr>\n",
       "    <tr>\n",
       "      <th>1</th>\n",
       "      <td>pretrial</td>\n",
       "      <td>probation</td>\n",
       "      <td>VIOLENT</td>\n",
       "      <td>1</td>\n",
       "      <td>233</td>\n",
       "    </tr>\n",
       "    <tr>\n",
       "      <th>2</th>\n",
       "      <td>pretrial</td>\n",
       "      <td>probation</td>\n",
       "      <td>NONVIOLENT</td>\n",
       "      <td>0</td>\n",
       "      <td>850</td>\n",
       "    </tr>\n",
       "    <tr>\n",
       "      <th>3</th>\n",
       "      <td>pretrial</td>\n",
       "      <td>probation</td>\n",
       "      <td>NONVIOLENT</td>\n",
       "      <td>1</td>\n",
       "      <td>912</td>\n",
       "    </tr>\n",
       "  </tbody>\n",
       "</table>\n",
       "</div>"
      ],
      "text/plain": [
       "  compartment outflow_to  crime_type  time_step  total_population\n",
       "0    pretrial  probation     VIOLENT          0               250\n",
       "1    pretrial  probation     VIOLENT          1               233\n",
       "2    pretrial  probation  NONVIOLENT          0               850\n",
       "3    pretrial  probation  NONVIOLENT          1               912"
      ]
     },
     "execution_count": 6,
     "metadata": {},
     "output_type": "execute_result"
    }
   ],
   "source": [
    "pd.DataFrame({\n",
    "    'compartment': ['pretrial'] * 4,\n",
    "    'outflow_to': ['probation'] * 4,\n",
    "    'crime_type': ['VIOLENT'] * 2 + ['NONVIOLENT'] * 2,\n",
    "    'time_step': [0,1, 0, 1],\n",
    "    'total_population': [250, 233, 850, 912]\n",
    "})"
   ]
  },
  {
   "cell_type": "markdown",
   "id": "61b88e31",
   "metadata": {},
   "source": [
    "Okie you're up! Turn `raw_va_sentence_df` into an outflows_data table! Some important tips for this:\n",
    "* Make sure you make a copy of `raw_va_sentence_df` and mess with that. If you start changing the original you won't have anything to build the other data inputs with.\n",
    "* Make sure your table has exactly the right columns with the right names when you're done. df.rename() is your friend!\n",
    "* `time_step` is the number of steps away from the reference date you're at. So with a reference date of 2020.0, 2021.0 would be time_step = 12. In our case, the reference_date is 2019.\n"
   ]
  },
  {
   "cell_type": "code",
   "execution_count": 7,
   "id": "7aaec467",
   "metadata": {},
   "outputs": [
    {
     "data": {
      "text/html": [
       "<div>\n",
       "<style scoped>\n",
       "    .dataframe tbody tr th:only-of-type {\n",
       "        vertical-align: middle;\n",
       "    }\n",
       "\n",
       "    .dataframe tbody tr th {\n",
       "        vertical-align: top;\n",
       "    }\n",
       "\n",
       "    .dataframe thead th {\n",
       "        text-align: right;\n",
       "    }\n",
       "</style>\n",
       "<table border=\"1\" class=\"dataframe\">\n",
       "  <thead>\n",
       "    <tr style=\"text-align: right;\">\n",
       "      <th></th>\n",
       "      <th>compartment</th>\n",
       "      <th>outflow_to</th>\n",
       "      <th>crime_type</th>\n",
       "      <th>time_step</th>\n",
       "      <th>total_population</th>\n",
       "    </tr>\n",
       "  </thead>\n",
       "  <tbody>\n",
       "    <tr>\n",
       "      <th>0</th>\n",
       "      <td>pretrial</td>\n",
       "      <td>probation</td>\n",
       "      <td>ASSAULT</td>\n",
       "      <td>-24</td>\n",
       "      <td>120.250000</td>\n",
       "    </tr>\n",
       "    <tr>\n",
       "      <th>1</th>\n",
       "      <td>pretrial</td>\n",
       "      <td>probation</td>\n",
       "      <td>ASSAULT</td>\n",
       "      <td>-12</td>\n",
       "      <td>117.416667</td>\n",
       "    </tr>\n",
       "    <tr>\n",
       "      <th>2</th>\n",
       "      <td>pretrial</td>\n",
       "      <td>probation</td>\n",
       "      <td>ASSAULT</td>\n",
       "      <td>0</td>\n",
       "      <td>117.500000</td>\n",
       "    </tr>\n",
       "    <tr>\n",
       "      <th>3</th>\n",
       "      <td>pretrial</td>\n",
       "      <td>probation</td>\n",
       "      <td>BURGLARY/DWELLING</td>\n",
       "      <td>-24</td>\n",
       "      <td>45.250000</td>\n",
       "    </tr>\n",
       "    <tr>\n",
       "      <th>4</th>\n",
       "      <td>pretrial</td>\n",
       "      <td>probation</td>\n",
       "      <td>BURGLARY/DWELLING</td>\n",
       "      <td>-12</td>\n",
       "      <td>42.333333</td>\n",
       "    </tr>\n",
       "    <tr>\n",
       "      <th>...</th>\n",
       "      <td>...</td>\n",
       "      <td>...</td>\n",
       "      <td>...</td>\n",
       "      <td>...</td>\n",
       "      <td>...</td>\n",
       "    </tr>\n",
       "    <tr>\n",
       "      <th>607</th>\n",
       "      <td>pretrial</td>\n",
       "      <td>probation</td>\n",
       "      <td>WEAPONS/FIREARMS</td>\n",
       "      <td>7</td>\n",
       "      <td>58.166667</td>\n",
       "    </tr>\n",
       "    <tr>\n",
       "      <th>608</th>\n",
       "      <td>pretrial</td>\n",
       "      <td>probation</td>\n",
       "      <td>WEAPONS/FIREARMS</td>\n",
       "      <td>8</td>\n",
       "      <td>58.166667</td>\n",
       "    </tr>\n",
       "    <tr>\n",
       "      <th>609</th>\n",
       "      <td>pretrial</td>\n",
       "      <td>probation</td>\n",
       "      <td>WEAPONS/FIREARMS</td>\n",
       "      <td>9</td>\n",
       "      <td>58.166667</td>\n",
       "    </tr>\n",
       "    <tr>\n",
       "      <th>610</th>\n",
       "      <td>pretrial</td>\n",
       "      <td>probation</td>\n",
       "      <td>WEAPONS/FIREARMS</td>\n",
       "      <td>10</td>\n",
       "      <td>58.166667</td>\n",
       "    </tr>\n",
       "    <tr>\n",
       "      <th>611</th>\n",
       "      <td>pretrial</td>\n",
       "      <td>probation</td>\n",
       "      <td>WEAPONS/FIREARMS</td>\n",
       "      <td>11</td>\n",
       "      <td>58.166667</td>\n",
       "    </tr>\n",
       "  </tbody>\n",
       "</table>\n",
       "<p>612 rows × 5 columns</p>\n",
       "</div>"
      ],
      "text/plain": [
       "    compartment outflow_to         crime_type  time_step  total_population\n",
       "0      pretrial  probation            ASSAULT        -24        120.250000\n",
       "1      pretrial  probation            ASSAULT        -12        117.416667\n",
       "2      pretrial  probation            ASSAULT          0        117.500000\n",
       "3      pretrial  probation  BURGLARY/DWELLING        -24         45.250000\n",
       "4      pretrial  probation  BURGLARY/DWELLING        -12         42.333333\n",
       "..          ...        ...                ...        ...               ...\n",
       "607    pretrial  probation   WEAPONS/FIREARMS          7         58.166667\n",
       "608    pretrial  probation   WEAPONS/FIREARMS          8         58.166667\n",
       "609    pretrial  probation   WEAPONS/FIREARMS          9         58.166667\n",
       "610    pretrial  probation   WEAPONS/FIREARMS         10         58.166667\n",
       "611    pretrial  probation   WEAPONS/FIREARMS         11         58.166667\n",
       "\n",
       "[612 rows x 5 columns]"
      ]
     },
     "execution_count": 7,
     "metadata": {},
     "output_type": "execute_result"
    }
   ],
   "source": [
    "# Step 1: Use a groupby operation to get one row per crime_type per year.\n",
    "\n",
    "#* your code here *\n",
    "\n",
    "outflows_data = raw_va_sentence_df.copy()\n",
    "reference_year = 2019\n",
    "\n",
    "outflows_data = outflows_data.groupby(['crime_type', 'fiscal_year']).count().reset_index().rename(columns={\n",
    "    'fiscal_year': 'time_step', \n",
    "    'offense_date': 'total_population'\n",
    "})\n",
    "\n",
    "# Step 2: Change the data to be per month instead of per year. Your table should get 12 times longer when you do this.\n",
    "\n",
    "#* your code here *\n",
    "\n",
    "def get_time_step(fiscal_year):\n",
    "    return int((fiscal_year - reference_year)*12)\n",
    "\n",
    "outflows_data['time_step'] = outflows_data['time_step'].apply(get_time_step)\n",
    "outflows_data['total_population'] = outflows_data['total_population'].apply(lambda pop: pop/12)\n",
    "\n",
    "new_rows = []\n",
    "for i, row in outflows_data.iterrows():\n",
    "    for month in range(1,12):\n",
    "        to_modify = row.copy()\n",
    "        to_modify['time_step'] += month;\n",
    "        new_rows.append(to_modify)\n",
    "        \n",
    "outflows_data = outflows_data.append(new_rows)\n",
    "outflows_data = outflows_data.reset_index()\n",
    "    \n",
    "# Step 3: Add in any of the columns you're missing, drop any you don't want, and rename the ones you want to keep.\n",
    "# Your column names should now match the example exactly.\n",
    "\n",
    "#* your code here *\n",
    "n = outflows_data.shape[0]\n",
    "outflows_data['compartment'] = 'pretrial'\n",
    "outflows_data['outflow_to'] = 'probation'\n",
    "\n",
    "outflows_data = outflows_data[['compartment', 'outflow_to', 'crime_type', 'time_step', 'total_population']]\n",
    "outflows_data = outflows_data.dropna()\n",
    "\n",
    "# Step 4: Ensure the columns of our table have the correct types. In particular, make sure the `time_step` column\n",
    "# has type int and `total_population` column has type float.\n",
    "\n",
    "#* your code here *\n",
    "outflows_data.dtypes\n",
    "\n",
    "outflows_data"
   ]
  },
  {
   "cell_type": "markdown",
   "id": "9c4562a9",
   "metadata": {},
   "source": [
    "Woooo look at you go!! Now let's take a look at what we just made and sanity-check that it looks reasonable:"
   ]
  },
  {
   "cell_type": "code",
   "execution_count": 8,
   "id": "70d1da30",
   "metadata": {},
   "outputs": [
    {
     "data": {
      "text/plain": [
       "<matplotlib.legend.Legend at 0x12fd04820>"
      ]
     },
     "execution_count": 8,
     "metadata": {},
     "output_type": "execute_result"
    },
    {
     "data": {
      "image/png": "[encoded data removed]",
      "text/plain": [
       "<Figure size 432x288 with 1 Axes>"
      ]
     },
     "metadata": {
      "needs_background": "light"
     },
     "output_type": "display_data"
    }
   ],
   "source": [
    "outflows_data.groupby(['time_step', 'crime_type']).total_population.mean().unstack('crime_type').plot()\n",
    "plt.legend(bbox_to_anchor=(1.1, 1.05))"
   ]
  },
  {
   "cell_type": "markdown",
   "id": "58b5386d",
   "metadata": {},
   "source": [
    "Huh, that's kinda hard to parse. Let's try pulling out just one crime type to look at:"
   ]
  },
  {
   "cell_type": "code",
   "execution_count": 9,
   "id": "65d1236e",
   "metadata": {},
   "outputs": [
    {
     "data": {
      "text/plain": [
       "<AxesSubplot:xlabel='time_step'>"
      ]
     },
     "execution_count": 9,
     "metadata": {},
     "output_type": "execute_result"
    },
    {
     "data": {
      "image/png": "[encoded data removed]",
      "text/plain": [
       "<Figure size 432x288 with 1 Axes>"
      ]
     },
     "metadata": {
      "needs_background": "light"
     },
     "output_type": "display_data"
    }
   ],
   "source": [
    "# Feel free to try subbing in a few different crimes to look at them one at a time\n",
    "CRIME_TYPE = 'ASSAULT'\n",
    "outflows_data.groupby(['time_step', 'crime_type']).total_population.mean().unstack('crime_type')[[CRIME_TYPE]].plot(ylim=[0,150])"
   ]
  },
  {
   "cell_type": "markdown",
   "id": "f4d14f5f",
   "metadata": {},
   "source": [
    "## transitions_data\n",
    "On to the transitions_data table. As a reminder, transitions_data should have one row of data per sub-group per compartment duration (aka length of stay) per full compartment (aka every one except pretrial). Here is what a final transitions table should look like:"
   ]
  },
  {
   "cell_type": "code",
   "execution_count": 10,
   "id": "4db1f5f6",
   "metadata": {},
   "outputs": [
    {
     "data": {
      "text/html": [
       "<div>\n",
       "<style scoped>\n",
       "    .dataframe tbody tr th:only-of-type {\n",
       "        vertical-align: middle;\n",
       "    }\n",
       "\n",
       "    .dataframe tbody tr th {\n",
       "        vertical-align: top;\n",
       "    }\n",
       "\n",
       "    .dataframe thead th {\n",
       "        text-align: right;\n",
       "    }\n",
       "</style>\n",
       "<table border=\"1\" class=\"dataframe\">\n",
       "  <thead>\n",
       "    <tr style=\"text-align: right;\">\n",
       "      <th></th>\n",
       "      <th>compartment</th>\n",
       "      <th>outflow_to</th>\n",
       "      <th>crime_type</th>\n",
       "      <th>compartment_duration</th>\n",
       "      <th>total_population</th>\n",
       "    </tr>\n",
       "  </thead>\n",
       "  <tbody>\n",
       "    <tr>\n",
       "      <th>0</th>\n",
       "      <td>prison</td>\n",
       "      <td>release</td>\n",
       "      <td>VIOLENT</td>\n",
       "      <td>48</td>\n",
       "      <td>0.6</td>\n",
       "    </tr>\n",
       "    <tr>\n",
       "      <th>1</th>\n",
       "      <td>prison</td>\n",
       "      <td>release</td>\n",
       "      <td>VIOLENT</td>\n",
       "      <td>156</td>\n",
       "      <td>0.4</td>\n",
       "    </tr>\n",
       "    <tr>\n",
       "      <th>2</th>\n",
       "      <td>prison</td>\n",
       "      <td>release</td>\n",
       "      <td>NONVIOLENT</td>\n",
       "      <td>30</td>\n",
       "      <td>1.0</td>\n",
       "    </tr>\n",
       "    <tr>\n",
       "      <th>3</th>\n",
       "      <td>release</td>\n",
       "      <td>release</td>\n",
       "      <td>VIOLENT</td>\n",
       "      <td>1</td>\n",
       "      <td>1.0</td>\n",
       "    </tr>\n",
       "    <tr>\n",
       "      <th>4</th>\n",
       "      <td>release</td>\n",
       "      <td>release</td>\n",
       "      <td>NONVIOLENT</td>\n",
       "      <td>1</td>\n",
       "      <td>1.0</td>\n",
       "    </tr>\n",
       "  </tbody>\n",
       "</table>\n",
       "</div>"
      ],
      "text/plain": [
       "  compartment outflow_to  crime_type  compartment_duration  total_population\n",
       "0      prison    release     VIOLENT                    48               0.6\n",
       "1      prison    release     VIOLENT                   156               0.4\n",
       "2      prison    release  NONVIOLENT                    30               1.0\n",
       "3     release    release     VIOLENT                     1               1.0\n",
       "4     release    release  NONVIOLENT                     1               1.0"
      ]
     },
     "execution_count": 10,
     "metadata": {},
     "output_type": "execute_result"
    }
   ],
   "source": [
    "pd.DataFrame({\n",
    "    'compartment': ['prison'] * 3 + ['release'] * 2,\n",
    "    'outflow_to': ['release'] * 5,\n",
    "    'crime_type': ['VIOLENT', 'VIOLENT', 'NONVIOLENT', 'VIOLENT', 'NONVIOLENT'],\n",
    "    'compartment_duration': [48,156, 30, 1, 1],\n",
    "    'total_population': [0.6, 0.4, 1, 1, 1]\n",
    "})"
   ]
  },
  {
   "cell_type": "markdown",
   "id": "9186eca0",
   "metadata": {},
   "source": [
    "Okie you're up! Turn `raw_va_sentence_df` into a transitions_data table! Some important tips for this:\n",
    "* Make sure you make a copy of `raw_va_sentence_df` and mess with that. If you start changing the original you won't have anything to build the other data inputs with.\n",
    "* Make sure your table has exactly the right columns with the right names when you're done. df.rename() is your friend!\n",
    "* The total_population column of this table only cares about the ratio of values between compartment_duration values within a given subgroup and compartment. In other words, compartment_duration : total_population = (12 : 0.2, 24: 0.4, 36: 0.4) will give the same behavior as compartment_duration : total_population = (12: 20, 24: 40, 36: 40).\n",
    "* Our time steps are one month, make sure the units of your `compartment_duration` column are correct.\n"
   ]
  },
  {
   "cell_type": "code",
   "execution_count": 11,
   "id": "8f03dd59",
   "metadata": {},
   "outputs": [
    {
     "data": {
      "text/html": [
       "<div>\n",
       "<style scoped>\n",
       "    .dataframe tbody tr th:only-of-type {\n",
       "        vertical-align: middle;\n",
       "    }\n",
       "\n",
       "    .dataframe tbody tr th {\n",
       "        vertical-align: top;\n",
       "    }\n",
       "\n",
       "    .dataframe thead th {\n",
       "        text-align: right;\n",
       "    }\n",
       "</style>\n",
       "<table border=\"1\" class=\"dataframe\">\n",
       "  <thead>\n",
       "    <tr style=\"text-align: right;\">\n",
       "      <th></th>\n",
       "      <th>compartment</th>\n",
       "      <th>outflow_to</th>\n",
       "      <th>crime_type</th>\n",
       "      <th>compartment_duration</th>\n",
       "      <th>total_population</th>\n",
       "    </tr>\n",
       "  </thead>\n",
       "  <tbody>\n",
       "    <tr>\n",
       "      <th>0</th>\n",
       "      <td>prison</td>\n",
       "      <td>release</td>\n",
       "      <td>ASSAULT</td>\n",
       "      <td>0.0</td>\n",
       "      <td>36.0</td>\n",
       "    </tr>\n",
       "    <tr>\n",
       "      <th>1</th>\n",
       "      <td>prison</td>\n",
       "      <td>release</td>\n",
       "      <td>ASSAULT</td>\n",
       "      <td>1.0</td>\n",
       "      <td>75.0</td>\n",
       "    </tr>\n",
       "    <tr>\n",
       "      <th>2</th>\n",
       "      <td>prison</td>\n",
       "      <td>release</td>\n",
       "      <td>ASSAULT</td>\n",
       "      <td>2.0</td>\n",
       "      <td>65.0</td>\n",
       "    </tr>\n",
       "    <tr>\n",
       "      <th>3</th>\n",
       "      <td>prison</td>\n",
       "      <td>release</td>\n",
       "      <td>ASSAULT</td>\n",
       "      <td>3.0</td>\n",
       "      <td>114.0</td>\n",
       "    </tr>\n",
       "    <tr>\n",
       "      <th>4</th>\n",
       "      <td>prison</td>\n",
       "      <td>release</td>\n",
       "      <td>ASSAULT</td>\n",
       "      <td>4.0</td>\n",
       "      <td>66.0</td>\n",
       "    </tr>\n",
       "    <tr>\n",
       "      <th>...</th>\n",
       "      <td>...</td>\n",
       "      <td>...</td>\n",
       "      <td>...</td>\n",
       "      <td>...</td>\n",
       "      <td>...</td>\n",
       "    </tr>\n",
       "    <tr>\n",
       "      <th>1657</th>\n",
       "      <td>release</td>\n",
       "      <td>release</td>\n",
       "      <td>WEAPONS/FIREARMS</td>\n",
       "      <td>78.0</td>\n",
       "      <td>1.0</td>\n",
       "    </tr>\n",
       "    <tr>\n",
       "      <th>1658</th>\n",
       "      <td>release</td>\n",
       "      <td>release</td>\n",
       "      <td>WEAPONS/FIREARMS</td>\n",
       "      <td>84.0</td>\n",
       "      <td>5.0</td>\n",
       "    </tr>\n",
       "    <tr>\n",
       "      <th>1659</th>\n",
       "      <td>release</td>\n",
       "      <td>release</td>\n",
       "      <td>WEAPONS/FIREARMS</td>\n",
       "      <td>96.0</td>\n",
       "      <td>1.0</td>\n",
       "    </tr>\n",
       "    <tr>\n",
       "      <th>1660</th>\n",
       "      <td>release</td>\n",
       "      <td>release</td>\n",
       "      <td>WEAPONS/FIREARMS</td>\n",
       "      <td>120.0</td>\n",
       "      <td>2.0</td>\n",
       "    </tr>\n",
       "    <tr>\n",
       "      <th>1661</th>\n",
       "      <td>release</td>\n",
       "      <td>release</td>\n",
       "      <td>WEAPONS/FIREARMS</td>\n",
       "      <td>180.0</td>\n",
       "      <td>1.0</td>\n",
       "    </tr>\n",
       "  </tbody>\n",
       "</table>\n",
       "<p>3324 rows × 5 columns</p>\n",
       "</div>"
      ],
      "text/plain": [
       "     compartment outflow_to        crime_type  compartment_duration  \\\n",
       "0         prison    release           ASSAULT                   0.0   \n",
       "1         prison    release           ASSAULT                   1.0   \n",
       "2         prison    release           ASSAULT                   2.0   \n",
       "3         prison    release           ASSAULT                   3.0   \n",
       "4         prison    release           ASSAULT                   4.0   \n",
       "...          ...        ...               ...                   ...   \n",
       "1657     release    release  WEAPONS/FIREARMS                  78.0   \n",
       "1658     release    release  WEAPONS/FIREARMS                  84.0   \n",
       "1659     release    release  WEAPONS/FIREARMS                  96.0   \n",
       "1660     release    release  WEAPONS/FIREARMS                 120.0   \n",
       "1661     release    release  WEAPONS/FIREARMS                 180.0   \n",
       "\n",
       "      total_population  \n",
       "0                 36.0  \n",
       "1                 75.0  \n",
       "2                 65.0  \n",
       "3                114.0  \n",
       "4                 66.0  \n",
       "...                ...  \n",
       "1657               1.0  \n",
       "1658               5.0  \n",
       "1659               1.0  \n",
       "1660               2.0  \n",
       "1661               1.0  \n",
       "\n",
       "[3324 rows x 5 columns]"
      ]
     },
     "execution_count": 11,
     "metadata": {},
     "output_type": "execute_result"
    }
   ],
   "source": [
    "# Step 1: Use a groupby operation to get one row per crime_type per sentence length.\n",
    "\n",
    "#* your code here *\n",
    "\n",
    "transitions_data = raw_va_sentence_df.copy()\n",
    "transitions_data = transitions_data[transitions_data.effective_sentence_months.notnull()]\n",
    "transitions_data['effective_sentence_months'] = transitions_data['effective_sentence_months'].apply(round).apply(float)\n",
    "transitions_data = transitions_data.groupby(['crime_type', 'effective_sentence_months']).count()\n",
    "\n",
    "# Step 2: Add in any of the columns you're missing, drop any you don't want, and rename the ones you want to keep.\n",
    "# Your column names should now match the example exactly.\n",
    "\n",
    "#* your code here *\n",
    "transitions_data = transitions_data.reset_index()\n",
    "transitions_data = transitions_data.rename(columns={\n",
    "    'offense_date': 'total_population', \n",
    "    'effective_sentence_months': 'compartment_duration'\n",
    "})\n",
    "\n",
    "transitions_data['total_population'] = transitions_data['total_population'].apply(float)\n",
    "\n",
    "transitions_data['compartment'] = 'prison'\n",
    "transitions_data['outflow_to'] = 'release'\n",
    "\n",
    "transitions_data = transitions_data[['compartment', 'outflow_to', 'crime_type', 'compartment_duration', 'total_population']]\n",
    "\n",
    "# Step 3: You've now finished the transitions data for the prison compartment, but we still need transitions data\n",
    "# for the release compartment. For our purposes, we're gonna assume no recidivism, which means people can just go\n",
    "# from release back to release (just like the example above). Create a second transitions_data table for release\n",
    "# that has one trivial transition from release to itself for each subgroup.\n",
    "\n",
    "#* your code here *\n",
    "\n",
    "trivial_transition = transitions_data.copy()\n",
    "trivial_transition['compartment'] = 'release'\n",
    "trivial_transition['outflow_to'] = 'release'\n",
    "\n",
    "# Step 4: Concatenate your two transitions tables together to get one final transitions_data\n",
    "\n",
    "#* your code here *\n",
    "transitions_data = transitions_data.append(trivial_transition)\n",
    "transitions_data = transitions_data.dropna()\n",
    "# Step 5: Ensure the columns of our table have the correct types. In particular, make sure the `compartment_duration`\n",
    "# and `total_population` columns both have type float.\n",
    "\n",
    "#* your code here *\n",
    "\n",
    "transitions_data.dtypes\n",
    "transitions_data"
   ]
  },
  {
   "cell_type": "markdown",
   "id": "ee6badaf",
   "metadata": {},
   "source": [
    "Killin it!! Now let's take a look at what we just made and sanity-check that it looks reasonable:"
   ]
  },
  {
   "cell_type": "code",
   "execution_count": 12,
   "id": "60dbcbaf",
   "metadata": {},
   "outputs": [
    {
     "data": {
      "text/plain": [
       "<matplotlib.legend.Legend at 0x12fab8a00>"
      ]
     },
     "execution_count": 12,
     "metadata": {},
     "output_type": "execute_result"
    },
    {
     "data": {
      "image/png": "[encoded data removed]",
      "text/plain": [
       "<Figure size 432x288 with 1 Axes>"
      ]
     },
     "metadata": {
      "needs_background": "light"
     },
     "output_type": "display_data"
    }
   ],
   "source": [
    "# Only looking at the prison compartment transitions for this check.\n",
    "transitions_data[transitions_data.compartment == 'prison'].groupby(\n",
    "    ['compartment_duration', 'crime_type']\n",
    ").total_population.mean().unstack('crime_type').plot()\n",
    "plt.legend(bbox_to_anchor=(1.8, 1.05))"
   ]
  },
  {
   "cell_type": "markdown",
   "id": "6e331689",
   "metadata": {},
   "source": [
    "Huh, that's also kinda hard to parse. Let's try pulling out just one crime type to look at:"
   ]
  },
  {
   "cell_type": "code",
   "execution_count": 13,
   "id": "8fb42bc0",
   "metadata": {},
   "outputs": [
    {
     "data": {
      "text/plain": [
       "<AxesSubplot:xlabel='compartment_duration'>"
      ]
     },
     "execution_count": 13,
     "metadata": {},
     "output_type": "execute_result"
    },
    {
     "data": {
      "image/png": "[encoded data removed]",
      "text/plain": [
       "<Figure size 432x288 with 1 Axes>"
      ]
     },
     "metadata": {
      "needs_background": "light"
     },
     "output_type": "display_data"
    }
   ],
   "source": [
    "# Feel free to try subbing in a few different crimes to look at them one at a time\n",
    "CRIME_TYPE = 'ASSAULT'\n",
    "transitions_data[transitions_data.compartment == 'prison'].groupby(\n",
    "    ['compartment_duration', 'crime_type']\n",
    ").total_population.mean().unstack('crime_type')[[CRIME_TYPE]].plot()"
   ]
  },
  {
   "cell_type": "markdown",
   "id": "cd5135f8",
   "metadata": {},
   "source": [
    "## total_population_data\n",
    "Last but not least: the total_population table. You'll have to go grab data for this one yourself, the data you need is on page 37 of this [report](https://vadoc.virginia.gov/media/1623/vadoc-financial-annual-mis-report-2020.pdf). `total_population_data` is the only table that doesn't need to be disaggreagted by subgroup if the data isn't there for that, so we'll just be creating a table for the total prison population and no disaggregation axis.\n",
    "\n",
    "As a reminder, total_population_data should have one row of data per time step per full compartment (in our case just `prison`). Here is what a final populations table should look like:"
   ]
  },
  {
   "cell_type": "code",
   "execution_count": 14,
   "id": "ca0c7173",
   "metadata": {},
   "outputs": [
    {
     "data": {
      "text/html": [
       "<div>\n",
       "<style scoped>\n",
       "    .dataframe tbody tr th:only-of-type {\n",
       "        vertical-align: middle;\n",
       "    }\n",
       "\n",
       "    .dataframe tbody tr th {\n",
       "        vertical-align: top;\n",
       "    }\n",
       "\n",
       "    .dataframe thead th {\n",
       "        text-align: right;\n",
       "    }\n",
       "</style>\n",
       "<table border=\"1\" class=\"dataframe\">\n",
       "  <thead>\n",
       "    <tr style=\"text-align: right;\">\n",
       "      <th></th>\n",
       "      <th>compartment</th>\n",
       "      <th>time_step</th>\n",
       "      <th>total_population</th>\n",
       "    </tr>\n",
       "  </thead>\n",
       "  <tbody>\n",
       "    <tr>\n",
       "      <th>0</th>\n",
       "      <td>prison</td>\n",
       "      <td>3</td>\n",
       "      <td>2500</td>\n",
       "    </tr>\n",
       "    <tr>\n",
       "      <th>1</th>\n",
       "      <td>prison</td>\n",
       "      <td>4</td>\n",
       "      <td>2800</td>\n",
       "    </tr>\n",
       "    <tr>\n",
       "      <th>2</th>\n",
       "      <td>prison</td>\n",
       "      <td>5</td>\n",
       "      <td>3030</td>\n",
       "    </tr>\n",
       "    <tr>\n",
       "      <th>3</th>\n",
       "      <td>prison</td>\n",
       "      <td>6</td>\n",
       "      <td>2820</td>\n",
       "    </tr>\n",
       "  </tbody>\n",
       "</table>\n",
       "</div>"
      ],
      "text/plain": [
       "  compartment  time_step  total_population\n",
       "0      prison          3              2500\n",
       "1      prison          4              2800\n",
       "2      prison          5              3030\n",
       "3      prison          6              2820"
      ]
     },
     "execution_count": 14,
     "metadata": {},
     "output_type": "execute_result"
    }
   ],
   "source": [
    "pd.DataFrame({\n",
    "    'compartment': ['prison'] * 4,\n",
    "    'time_step': range(3,7),\n",
    "    'total_population': [2500, 2800, 3030, 2820]\n",
    "})"
   ]
  },
  {
   "cell_type": "markdown",
   "id": "88a2c6dc",
   "metadata": {},
   "source": [
    "Okie you're up! Turn the table from the DOC report into a `total_population_data` table! Some important tips for this:\n",
    "* Make sure your table has exactly the right columns with the right names when you're done. df.rename() is your friend!\n",
    "* `time_step` is the number of steps away from the reference date you're at. So with a reference date of 2020.0, 2021.0 would be time_step = 12. In our case, the reference_date is 2019."
   ]
  },
  {
   "cell_type": "code",
   "execution_count": 15,
   "id": "6ecca530",
   "metadata": {},
   "outputs": [],
   "source": [
    "# Input the data from the DOC report into a pandas DataFrame. Feel free to start with the example table\n",
    "# above if that's easier. \n",
    "\n",
    "#* your code here *\n",
    "\n",
    "# Time steps are based on 2019.0=Jan 2019\n",
    "total_population_data = pd.DataFrame({\n",
    "    'compartment': 'prison',\n",
    "    'time_step': [18, 19, 20, 21, 22, 23, 24, 25, 26, 27, 28, 29],\n",
    "    'total_population': [29075, 28887, 28728, 28692, 28430, 28389, 28266, 28225, 28174, 27563, 26730, 26082]\n",
    "})\n",
    "\n",
    "total_population_data['total_population'] = total_population_data['total_population'].apply(float)"
   ]
  },
  {
   "cell_type": "markdown",
   "id": "5a3e677f",
   "metadata": {},
   "source": [
    "Let's double check that matches the report we copied from:"
   ]
  },
  {
   "cell_type": "code",
   "execution_count": 16,
   "id": "73da5b39",
   "metadata": {},
   "outputs": [
    {
     "data": {
      "text/plain": [
       "<AxesSubplot:xlabel='time_step'>"
      ]
     },
     "execution_count": 16,
     "metadata": {},
     "output_type": "execute_result"
    },
    {
     "data": {
      "image/png": "[encoded data removed]",
      "text/plain": [
       "<Figure size 432x288 with 1 Axes>"
      ]
     },
     "metadata": {
      "needs_background": "light"
     },
     "output_type": "display_data"
    }
   ],
   "source": [
    "total_population_data.plot(x='time_step', y='total_population')"
   ]
  },
  {
   "cell_type": "markdown",
   "id": "91a3ec0d",
   "metadata": {},
   "source": [
    "## Uploading our data\n",
    "The final step in pre-processing is to upload our data to Google BigQuery. If this next cell gives you a permission error, you need to go set up your Google Cloud access–follow these steps:\n",
    "1. Work through just the installation section of (this page)[https://cloud.google.com/sdk/docs/quickstart]. Make sure you log in with your Stanford email.\n",
    "2. Open a terminal window and navigate to your Github repository folder. Run the following commands:\n",
    "3. `gcloud auth application-default login` --> This will prompt you to log in to your google cloud account\n",
    "4. `gcloud config set project recidiviz-staging`\n",
    "\n",
    "Once you're set up, you can try the upload again.\n"
   ]
  },
  {
   "cell_type": "code",
   "execution_count": 17,
   "id": "0fd921c1",
   "metadata": {},
   "outputs": [
    {
     "name": "stderr",
     "output_type": "stream",
     "text": [
      "/Users/pacopoler/.local/share/virtualenvs/recidiviz-data-Jd9N3JcA/lib/python3.8/site-packages/google/auth/_default.py:70: UserWarning: Your application has authenticated using end user credentials from Google Cloud SDK without a quota project. You might receive a \"quota exceeded\" or \"API not enabled\" error. We recommend you rerun `gcloud auth application-default login` and make sure a quota project is added. Or you can use service accounts instead. For more information about service accounts, see https://cloud.google.com/docs/authentication/\n",
      "  warnings.warn(_CLOUD_SDK_CREDENTIALS_WARNING)\n",
      "1it [00:07,  7.85s/it]\n",
      "1it [00:09,  9.07s/it]\n",
      "1it [00:06,  6.24s/it]\n"
     ]
    }
   ],
   "source": [
    "# STEP 1: pick a `simulation_tag` for your simulation. \"paco_parole_test\" would be a reasonable example...\n",
    "simulation_tag = \"isaac_parole_test\"\n",
    "\n",
    "\n",
    "upload_spark_model_inputs(\n",
    "    \"recidiviz-staging\",\n",
    "    simulation_tag,\n",
    "    outflows_data,\n",
    "    transitions_data,\n",
    "    total_population_data,\n",
    "    '../state/VA/2022/test_configurations/walkthru_user_inputs.yaml',\n",
    ")"
   ]
  },
  {
   "cell_type": "markdown",
   "id": "5ac5d0d2",
   "metadata": {},
   "source": [
    "# Running a baseline\n",
    "We're ready to build a simulation now! First step is initializing a simulation object, called a SuperSimulation. When we initialize it we pass in the filepath of our YAML configuration, so before you continue you need to go to that file, located in `recidiviz-data/recidiviz/calculator/modeling/population_projection/state/VA/2022/test_configurations`, and change the simulation_tag to match the one you chose above."
   ]
  },
  {
   "cell_type": "code",
   "execution_count": 18,
   "id": "b27c404e",
   "metadata": {},
   "outputs": [
    {
     "name": "stderr",
     "output_type": "stream",
     "text": [
      "Downloading: 100%|██████████████████████████████████████████████████████████████████████████████████████████████████████████████████| 2505/2505 [00:00<00:00, 4351.49rows/s]\n",
      "/Users/pacopoler/.local/share/virtualenvs/recidiviz-data-Jd9N3JcA/lib/python3.8/site-packages/google/cloud/bigquery/table.py:1967: FutureWarning: Using .astype to convert from timezone-aware dtype to timezone-naive dtype is deprecated and will raise in a future version.  Use obj.tz_localize(None) or obj.tz_convert('UTC').tz_localize(None) instead\n",
      "  df[column] = pandas.Series(df[column], dtype=dtypes[column])\n"
     ]
    },
    {
     "name": "stdout",
     "output_type": "stream",
     "text": [
      "outflows_data returned 2505 results\n"
     ]
    },
    {
     "name": "stderr",
     "output_type": "stream",
     "text": [
      "Downloading: 100%|██████████████████████████████████████████████████████████████████████████████████████████████████████████████████| 2957/2957 [00:00<00:00, 4239.83rows/s]\n"
     ]
    },
    {
     "name": "stdout",
     "output_type": "stream",
     "text": [
      "transitions_data returned 2957 results\n"
     ]
    },
    {
     "name": "stderr",
     "output_type": "stream",
     "text": [
      "Downloading: 100%|████████████████████████████████████████████████████████████████████████████████████████████████████████████████████████| 34/34 [00:02<00:00, 14.37rows/s]\n",
      "WARNING:root:Outflows data is missing for more than 25.0% for some disaggregations:\n",
      "crime_type            compartment  outflow_to\n",
      "CAPITAL_MURDER        pretrial     prison        38.297872\n",
      "SECOND_DEGREE_MURDER  pretrial     prison        48.936170\n",
      "dtype: float64%\n"
     ]
    },
    {
     "name": "stdout",
     "output_type": "stream",
     "text": [
      "total_population_data returned 34 results\n"
     ]
    }
   ],
   "source": [
    "# Don't worry about any warnings, as long as this doesn't fail you're in business\n",
    "spark_sim = SuperSimulationFactory.build_super_simulation(\n",
    "    '../state/VA/2022/test_configurations/walkthru_user_inputs.yaml'\n",
    ")"
   ]
  },
  {
   "cell_type": "markdown",
   "id": "2c19517e",
   "metadata": {},
   "source": [
    "Now we're going to run a baseline simulation. This is an oppportunity to make sure the data we generated is valid, and to sanity-check the basic dynamics it generates. You should just be able to run the code below, but if you feel like it you can also include `release` in the `display_compartments` list to see that population evolve too.\n",
    "*Make sure you pause to think about the graph this generates*. Do you believe this is actually close to reality? Is there something off, and if so what might be causing it?"
   ]
  },
  {
   "cell_type": "code",
   "execution_count": 19,
   "id": "4b37bd86",
   "metadata": {},
   "outputs": [
    {
     "ename": "KeyboardInterrupt",
     "evalue": "",
     "output_type": "error",
     "traceback": [
      "\u001b[0;31m---------------------------------------------------------------------------\u001b[0m",
      "\u001b[0;31mKeyboardInterrupt\u001b[0m                         Traceback (most recent call last)",
      "\u001b[0;32m/var/folders/3l/phmqvp1s6y5_l56qp_wwfrb80000gn/T/ipykernel_12194/4021678191.py\u001b[0m in \u001b[0;36m<module>\u001b[0;34m\u001b[0m\n\u001b[1;32m      1\u001b[0m \u001b[0;31m#This can take several minutes to run. You'll see six checkpoints printed out along the way before it finishes.\u001b[0m\u001b[0;34m\u001b[0m\u001b[0;34m\u001b[0m\u001b[0;34m\u001b[0m\u001b[0m\n\u001b[1;32m      2\u001b[0m \u001b[0mdisplay_compartments\u001b[0m \u001b[0;34m=\u001b[0m \u001b[0;34m[\u001b[0m\u001b[0;34m'prison'\u001b[0m\u001b[0;34m]\u001b[0m\u001b[0;34m\u001b[0m\u001b[0;34m\u001b[0m\u001b[0m\n\u001b[0;32m----> 3\u001b[0;31m \u001b[0mspark_sim\u001b[0m\u001b[0;34m.\u001b[0m\u001b[0msimulate_baseline\u001b[0m\u001b[0;34m(\u001b[0m\u001b[0mdisplay_compartments\u001b[0m\u001b[0;34m)\u001b[0m\u001b[0;34m\u001b[0m\u001b[0;34m\u001b[0m\u001b[0m\n\u001b[0m",
      "\u001b[0;32m~/Desktop/SDC/recidiviz-data/recidiviz/calculator/modeling/population_projection/super_simulation/super_simulation.py\u001b[0m in \u001b[0;36msimulate_baseline\u001b[0;34m(self, display_compartments, first_relevant_ts)\u001b[0m\n\u001b[1;32m     65\u001b[0m         \u001b[0muser_inputs\u001b[0m \u001b[0;34m=\u001b[0m \u001b[0mself\u001b[0m\u001b[0;34m.\u001b[0m\u001b[0minitializer\u001b[0m\u001b[0;34m.\u001b[0m\u001b[0mget_user_inputs\u001b[0m\u001b[0;34m(\u001b[0m\u001b[0;34m)\u001b[0m\u001b[0;34m\u001b[0m\u001b[0;34m\u001b[0m\u001b[0m\n\u001b[1;32m     66\u001b[0m \u001b[0;34m\u001b[0m\u001b[0m\n\u001b[0;32m---> 67\u001b[0;31m         self.simulator.simulate_baseline(\n\u001b[0m\u001b[1;32m     68\u001b[0m             \u001b[0muser_inputs\u001b[0m\u001b[0;34m,\u001b[0m\u001b[0;34m\u001b[0m\u001b[0;34m\u001b[0m\u001b[0m\n\u001b[1;32m     69\u001b[0m             \u001b[0mdata_inputs\u001b[0m\u001b[0;34m,\u001b[0m\u001b[0;34m\u001b[0m\u001b[0;34m\u001b[0m\u001b[0m\n",
      "\u001b[0;32m~/Desktop/SDC/recidiviz-data/recidiviz/calculator/modeling/population_projection/super_simulation/simulator.py\u001b[0m in \u001b[0;36msimulate_baseline\u001b[0;34m(self, user_inputs, data_inputs, display_compartments, first_relevant_ts, reset)\u001b[0m\n\u001b[1;32m    121\u001b[0m         self.pop_simulations[\n\u001b[1;32m    122\u001b[0m             \u001b[0;34m\"baseline_projections\"\u001b[0m\u001b[0;34m\u001b[0m\u001b[0;34m\u001b[0m\u001b[0m\n\u001b[0;32m--> 123\u001b[0;31m         \u001b[0;34m]\u001b[0m \u001b[0;34m=\u001b[0m \u001b[0mself\u001b[0m\u001b[0;34m.\u001b[0m\u001b[0m_build_population_simulation\u001b[0m\u001b[0;34m(\u001b[0m\u001b[0;34m\u001b[0m\u001b[0;34m\u001b[0m\u001b[0m\n\u001b[0m\u001b[1;32m    124\u001b[0m             \u001b[0muser_inputs\u001b[0m\u001b[0;34m,\u001b[0m \u001b[0mdata_inputs\u001b[0m\u001b[0;34m,\u001b[0m \u001b[0;34m[\u001b[0m\u001b[0;34m]\u001b[0m\u001b[0;34m,\u001b[0m \u001b[0mfirst_relevant_ts\u001b[0m\u001b[0;34m\u001b[0m\u001b[0;34m\u001b[0m\u001b[0m\n\u001b[1;32m    125\u001b[0m         )\n",
      "\u001b[0;32m~/Desktop/SDC/recidiviz-data/recidiviz/calculator/modeling/population_projection/super_simulation/simulator.py\u001b[0m in \u001b[0;36m_build_population_simulation\u001b[0;34m(user_inputs, data_inputs, policy_list, first_relevant_ts)\u001b[0m\n\u001b[1;32m    304\u001b[0m         \u001b[0mfirst_relevant_ts\u001b[0m\u001b[0;34m:\u001b[0m \u001b[0mint\u001b[0m\u001b[0;34m,\u001b[0m\u001b[0;34m\u001b[0m\u001b[0;34m\u001b[0m\u001b[0m\n\u001b[1;32m    305\u001b[0m     ) -> PopulationSimulation:\n\u001b[0;32m--> 306\u001b[0;31m         return PopulationSimulationFactory.build_population_simulation(\n\u001b[0m\u001b[1;32m    307\u001b[0m             \u001b[0muser_inputs\u001b[0m\u001b[0;34m=\u001b[0m\u001b[0muser_inputs\u001b[0m\u001b[0;34m,\u001b[0m\u001b[0;34m\u001b[0m\u001b[0;34m\u001b[0m\u001b[0m\n\u001b[1;32m    308\u001b[0m             \u001b[0mpolicy_list\u001b[0m\u001b[0;34m=\u001b[0m\u001b[0mpolicy_list\u001b[0m\u001b[0;34m,\u001b[0m\u001b[0;34m\u001b[0m\u001b[0;34m\u001b[0m\u001b[0m\n",
      "\u001b[0;32m~/Desktop/SDC/recidiviz-data/recidiviz/calculator/modeling/population_projection/population_simulation/population_simulation_factory.py\u001b[0m in \u001b[0;36mbuild_population_simulation\u001b[0;34m(cls, outflows_data, transitions_data, total_population_data, compartments_architecture, disaggregation_axes, user_inputs, policy_list, first_relevant_ts, microsim_data, should_initialize_compartment_populations, should_scale_populations_after_step, override_cross_flow_function)\u001b[0m\n\u001b[1;32m    130\u001b[0m                     )\n\u001b[1;32m    131\u001b[0m \u001b[0;34m\u001b[0m\u001b[0m\n\u001b[0;32m--> 132\u001b[0;31m         sub_simulations = cls._build_sub_simulations(\n\u001b[0m\u001b[1;32m    133\u001b[0m             \u001b[0moutflows_data\u001b[0m\u001b[0;34m,\u001b[0m\u001b[0;34m\u001b[0m\u001b[0;34m\u001b[0m\u001b[0m\n\u001b[1;32m    134\u001b[0m             \u001b[0mtransitions_data\u001b[0m\u001b[0;34m,\u001b[0m\u001b[0;34m\u001b[0m\u001b[0;34m\u001b[0m\u001b[0m\n",
      "\u001b[0;32m~/Desktop/SDC/recidiviz-data/recidiviz/calculator/modeling/population_projection/population_simulation/population_simulation_factory.py\u001b[0m in \u001b[0;36m_build_sub_simulations\u001b[0;34m(cls, outflows_data, transitions_data, total_population_data, simulation_compartments, disaggregation_axes, user_inputs, policy_list, first_relevant_ts, sub_group_ids_dict, should_initialize_compartment_populations)\u001b[0m\n\u001b[1;32m    263\u001b[0m             )\n\u001b[1;32m    264\u001b[0m \u001b[0;34m\u001b[0m\u001b[0m\n\u001b[0;32m--> 265\u001b[0;31m             sub_simulations[sub_group_id] = SubSimulationFactory.build_sub_simulation(\n\u001b[0m\u001b[1;32m    266\u001b[0m                 \u001b[0moutflows_data\u001b[0m\u001b[0;34m=\u001b[0m\u001b[0mdisaggregated_outflows_data\u001b[0m\u001b[0;34m,\u001b[0m\u001b[0;34m\u001b[0m\u001b[0;34m\u001b[0m\u001b[0m\n\u001b[1;32m    267\u001b[0m                 \u001b[0mtransitions_data\u001b[0m\u001b[0;34m=\u001b[0m\u001b[0mdisaggregated_transitions_data\u001b[0m\u001b[0;34m,\u001b[0m\u001b[0;34m\u001b[0m\u001b[0;34m\u001b[0m\u001b[0m\n",
      "\u001b[0;32m~/Desktop/SDC/recidiviz-data/recidiviz/calculator/modeling/population_projection/sub_simulation/sub_simulation_factory.py\u001b[0m in \u001b[0;36mbuild_sub_simulation\u001b[0;34m(cls, outflows_data, transitions_data, compartments_architecture, user_inputs, policy_list, first_relevant_ts, should_single_cohort_initialize_compartments, starting_cohort_sizes)\u001b[0m\n\u001b[1;32m     56\u001b[0m         \u001b[0;34m\"\"\"Build a sub_simulation.\"\"\"\u001b[0m\u001b[0;34m\u001b[0m\u001b[0;34m\u001b[0m\u001b[0m\n\u001b[1;32m     57\u001b[0m \u001b[0;34m\u001b[0m\u001b[0m\n\u001b[0;32m---> 58\u001b[0;31m         transitions_per_compartment, shell_policies = cls._initialize_transition_tables(\n\u001b[0m\u001b[1;32m     59\u001b[0m             \u001b[0mtransitions_data\u001b[0m\u001b[0;34m,\u001b[0m \u001b[0mcompartments_architecture\u001b[0m\u001b[0;34m,\u001b[0m \u001b[0mpolicy_list\u001b[0m\u001b[0;34m\u001b[0m\u001b[0;34m\u001b[0m\u001b[0m\n\u001b[1;32m     60\u001b[0m         )\n",
      "\u001b[0;32m~/Desktop/SDC/recidiviz-data/recidiviz/calculator/modeling/population_projection/sub_simulation/sub_simulation_factory.py\u001b[0m in \u001b[0;36m_initialize_transition_tables\u001b[0;34m(cls, transitions_data, compartments_architecture, policy_list)\u001b[0m\n\u001b[1;32m    137\u001b[0m             \u001b[0;31m# add to the dict compartment -> transition class with policies applied\u001b[0m\u001b[0;34m\u001b[0m\u001b[0;34m\u001b[0m\u001b[0;34m\u001b[0m\u001b[0m\n\u001b[1;32m    138\u001b[0m             \u001b[0;32mif\u001b[0m \u001b[0mcompartment\u001b[0m \u001b[0;32min\u001b[0m \u001b[0mtransitions_per_compartment\u001b[0m\u001b[0;34m:\u001b[0m\u001b[0;34m\u001b[0m\u001b[0;34m\u001b[0m\u001b[0m\n\u001b[0;32m--> 139\u001b[0;31m                 transitions_per_compartment[compartment].initialize_transition_tables(\n\u001b[0m\u001b[1;32m    140\u001b[0m                     \u001b[0mcompartment_policies\u001b[0m\u001b[0;34m\u001b[0m\u001b[0;34m\u001b[0m\u001b[0m\n\u001b[1;32m    141\u001b[0m                 )\n",
      "\u001b[0;32m~/Desktop/SDC/recidiviz-data/recidiviz/calculator/modeling/population_projection/compartment_transitions.py\u001b[0m in \u001b[0;36minitialize_transition_tables\u001b[0;34m(self, policy_list)\u001b[0m\n\u001b[1;32m    116\u001b[0m         \u001b[0;31m# normalize all tables\u001b[0m\u001b[0;34m\u001b[0m\u001b[0;34m\u001b[0m\u001b[0;34m\u001b[0m\u001b[0m\n\u001b[1;32m    117\u001b[0m         \u001b[0;32mfor\u001b[0m \u001b[0mtransition_table\u001b[0m \u001b[0;32min\u001b[0m \u001b[0mself\u001b[0m\u001b[0;34m.\u001b[0m\u001b[0mtransition_tables\u001b[0m\u001b[0;34m.\u001b[0m\u001b[0mvalues\u001b[0m\u001b[0;34m(\u001b[0m\u001b[0;34m)\u001b[0m\u001b[0;34m:\u001b[0m\u001b[0;34m\u001b[0m\u001b[0;34m\u001b[0m\u001b[0m\n\u001b[0;32m--> 118\u001b[0;31m             \u001b[0mtransition_table\u001b[0m\u001b[0;34m.\u001b[0m\u001b[0mnormalize_transitions\u001b[0m\u001b[0;34m(\u001b[0m\u001b[0;34m)\u001b[0m\u001b[0;34m\u001b[0m\u001b[0;34m\u001b[0m\u001b[0m\n\u001b[0m\u001b[1;32m    119\u001b[0m \u001b[0;34m\u001b[0m\u001b[0m\n\u001b[1;32m    120\u001b[0m     \u001b[0;32mdef\u001b[0m \u001b[0mget_per_ts_transition_table\u001b[0m\u001b[0;34m(\u001b[0m\u001b[0mself\u001b[0m\u001b[0;34m,\u001b[0m \u001b[0mcurrent_ts\u001b[0m\u001b[0;34m:\u001b[0m \u001b[0mint\u001b[0m\u001b[0;34m)\u001b[0m \u001b[0;34m->\u001b[0m \u001b[0mpd\u001b[0m\u001b[0;34m.\u001b[0m\u001b[0mDataFrame\u001b[0m\u001b[0;34m:\u001b[0m\u001b[0;34m\u001b[0m\u001b[0;34m\u001b[0m\u001b[0m\n",
      "\u001b[0;32m~/Desktop/SDC/recidiviz-data/recidiviz/calculator/modeling/population_projection/transition_table.py\u001b[0m in \u001b[0;36mnormalize_transitions\u001b[0;34m(self)\u001b[0m\n\u001b[1;32m    222\u001b[0m                 self.transitory_table, self.max_sentence, before_table=before_table)\n\u001b[1;32m    223\u001b[0m         \u001b[0;32mfor\u001b[0m \u001b[0mts\u001b[0m\u001b[0;34m,\u001b[0m \u001b[0mtable\u001b[0m \u001b[0;32min\u001b[0m \u001b[0mself\u001b[0m\u001b[0;34m.\u001b[0m\u001b[0mtables\u001b[0m\u001b[0;34m.\u001b[0m\u001b[0mitems\u001b[0m\u001b[0;34m(\u001b[0m\u001b[0;34m)\u001b[0m\u001b[0;34m:\u001b[0m\u001b[0;34m\u001b[0m\u001b[0;34m\u001b[0m\u001b[0m\n\u001b[0;32m--> 224\u001b[0;31m             \u001b[0mself\u001b[0m\u001b[0;34m.\u001b[0m\u001b[0mtables\u001b[0m\u001b[0;34m[\u001b[0m\u001b[0mts\u001b[0m\u001b[0;34m]\u001b[0m \u001b[0;34m=\u001b[0m \u001b[0mTransitionTable\u001b[0m\u001b[0;34m.\u001b[0m\u001b[0mnormalized_table\u001b[0m\u001b[0;34m(\u001b[0m\u001b[0mtable\u001b[0m\u001b[0;34m,\u001b[0m \u001b[0mself\u001b[0m\u001b[0;34m.\u001b[0m\u001b[0mmax_sentence\u001b[0m\u001b[0;34m)\u001b[0m\u001b[0;34m\u001b[0m\u001b[0;34m\u001b[0m\u001b[0m\n\u001b[0m\u001b[1;32m    225\u001b[0m \u001b[0;34m\u001b[0m\u001b[0m\n\u001b[1;32m    226\u001b[0m     def generate_transition_tables(\n",
      "\u001b[0;32m~/Desktop/SDC/recidiviz-data/recidiviz/calculator/modeling/population_projection/transition_table.py\u001b[0m in \u001b[0;36mnormalized_table\u001b[0;34m(table, max_sentence, before_table)\u001b[0m\n\u001b[1;32m    164\u001b[0m \u001b[0;34m\u001b[0m\u001b[0m\n\u001b[1;32m    165\u001b[0m             \u001b[0;31m# calculate the fraction of each outflow remaining at this time step\u001b[0m\u001b[0;34m\u001b[0m\u001b[0;34m\u001b[0m\u001b[0;34m\u001b[0m\u001b[0m\n\u001b[0;32m--> 166\u001b[0;31m             \u001b[0mafter_remaining\u001b[0m \u001b[0;34m=\u001b[0m \u001b[0mnp\u001b[0m\u001b[0;34m.\u001b[0m\u001b[0mclip\u001b[0m\u001b[0;34m(\u001b[0m\u001b[0;36m1\u001b[0m \u001b[0;34m-\u001b[0m \u001b[0mafter_counteds\u001b[0m \u001b[0;34m/\u001b[0m \u001b[0mafter_totals\u001b[0m\u001b[0;34m,\u001b[0m \u001b[0;36m0\u001b[0m\u001b[0;34m,\u001b[0m \u001b[0;36m1\u001b[0m\u001b[0;34m)\u001b[0m\u001b[0;34m\u001b[0m\u001b[0;34m\u001b[0m\u001b[0m\n\u001b[0m\u001b[1;32m    167\u001b[0m             \u001b[0mbefore_remaining\u001b[0m \u001b[0;34m=\u001b[0m \u001b[0mnp\u001b[0m\u001b[0;34m.\u001b[0m\u001b[0mclip\u001b[0m\u001b[0;34m(\u001b[0m\u001b[0;36m1\u001b[0m \u001b[0;34m-\u001b[0m \u001b[0mbefore_counteds\u001b[0m \u001b[0;34m/\u001b[0m \u001b[0mbefore_totals\u001b[0m\u001b[0;34m,\u001b[0m \u001b[0;36m0\u001b[0m\u001b[0;34m,\u001b[0m \u001b[0;36m1\u001b[0m\u001b[0;34m)\u001b[0m\u001b[0;34m\u001b[0m\u001b[0;34m\u001b[0m\u001b[0m\n\u001b[1;32m    168\u001b[0m \u001b[0;34m\u001b[0m\u001b[0m\n",
      "\u001b[0;32m<__array_function__ internals>\u001b[0m in \u001b[0;36mclip\u001b[0;34m(*args, **kwargs)\u001b[0m\n",
      "\u001b[0;32m~/.local/share/virtualenvs/recidiviz-data-Jd9N3JcA/lib/python3.8/site-packages/numpy/core/fromnumeric.py\u001b[0m in \u001b[0;36mclip\u001b[0;34m(a, a_min, a_max, out, **kwargs)\u001b[0m\n\u001b[1;32m   2113\u001b[0m \u001b[0;34m\u001b[0m\u001b[0m\n\u001b[1;32m   2114\u001b[0m     \"\"\"\n\u001b[0;32m-> 2115\u001b[0;31m     \u001b[0;32mreturn\u001b[0m \u001b[0m_wrapfunc\u001b[0m\u001b[0;34m(\u001b[0m\u001b[0ma\u001b[0m\u001b[0;34m,\u001b[0m \u001b[0;34m'clip'\u001b[0m\u001b[0;34m,\u001b[0m \u001b[0ma_min\u001b[0m\u001b[0;34m,\u001b[0m \u001b[0ma_max\u001b[0m\u001b[0;34m,\u001b[0m \u001b[0mout\u001b[0m\u001b[0;34m=\u001b[0m\u001b[0mout\u001b[0m\u001b[0;34m,\u001b[0m \u001b[0;34m**\u001b[0m\u001b[0mkwargs\u001b[0m\u001b[0;34m)\u001b[0m\u001b[0;34m\u001b[0m\u001b[0;34m\u001b[0m\u001b[0m\n\u001b[0m\u001b[1;32m   2116\u001b[0m \u001b[0;34m\u001b[0m\u001b[0m\n\u001b[1;32m   2117\u001b[0m \u001b[0;34m\u001b[0m\u001b[0m\n",
      "\u001b[0;32m~/.local/share/virtualenvs/recidiviz-data-Jd9N3JcA/lib/python3.8/site-packages/numpy/core/fromnumeric.py\u001b[0m in \u001b[0;36m_wrapfunc\u001b[0;34m(obj, method, *args, **kwds)\u001b[0m\n\u001b[1;32m     55\u001b[0m \u001b[0;34m\u001b[0m\u001b[0m\n\u001b[1;32m     56\u001b[0m     \u001b[0;32mtry\u001b[0m\u001b[0;34m:\u001b[0m\u001b[0;34m\u001b[0m\u001b[0;34m\u001b[0m\u001b[0m\n\u001b[0;32m---> 57\u001b[0;31m         \u001b[0;32mreturn\u001b[0m \u001b[0mbound\u001b[0m\u001b[0;34m(\u001b[0m\u001b[0;34m*\u001b[0m\u001b[0margs\u001b[0m\u001b[0;34m,\u001b[0m \u001b[0;34m**\u001b[0m\u001b[0mkwds\u001b[0m\u001b[0;34m)\u001b[0m\u001b[0;34m\u001b[0m\u001b[0;34m\u001b[0m\u001b[0m\n\u001b[0m\u001b[1;32m     58\u001b[0m     \u001b[0;32mexcept\u001b[0m \u001b[0mTypeError\u001b[0m\u001b[0;34m:\u001b[0m\u001b[0;34m\u001b[0m\u001b[0;34m\u001b[0m\u001b[0m\n\u001b[1;32m     59\u001b[0m         \u001b[0;31m# A TypeError occurs if the object does have such a method in its\u001b[0m\u001b[0;34m\u001b[0m\u001b[0;34m\u001b[0m\u001b[0;34m\u001b[0m\u001b[0m\n",
      "\u001b[0;32m~/.local/share/virtualenvs/recidiviz-data-Jd9N3JcA/lib/python3.8/site-packages/pandas/util/_decorators.py\u001b[0m in \u001b[0;36mwrapper\u001b[0;34m(*args, **kwargs)\u001b[0m\n\u001b[1;32m    309\u001b[0m                     \u001b[0mstacklevel\u001b[0m\u001b[0;34m=\u001b[0m\u001b[0mstacklevel\u001b[0m\u001b[0;34m,\u001b[0m\u001b[0;34m\u001b[0m\u001b[0;34m\u001b[0m\u001b[0m\n\u001b[1;32m    310\u001b[0m                 )\n\u001b[0;32m--> 311\u001b[0;31m             \u001b[0;32mreturn\u001b[0m \u001b[0mfunc\u001b[0m\u001b[0;34m(\u001b[0m\u001b[0;34m*\u001b[0m\u001b[0margs\u001b[0m\u001b[0;34m,\u001b[0m \u001b[0;34m**\u001b[0m\u001b[0mkwargs\u001b[0m\u001b[0;34m)\u001b[0m\u001b[0;34m\u001b[0m\u001b[0;34m\u001b[0m\u001b[0m\n\u001b[0m\u001b[1;32m    312\u001b[0m \u001b[0;34m\u001b[0m\u001b[0m\n\u001b[1;32m    313\u001b[0m         \u001b[0;32mreturn\u001b[0m \u001b[0mwrapper\u001b[0m\u001b[0;34m\u001b[0m\u001b[0;34m\u001b[0m\u001b[0m\n",
      "\u001b[0;32m~/.local/share/virtualenvs/recidiviz-data-Jd9N3JcA/lib/python3.8/site-packages/pandas/core/series.py\u001b[0m in \u001b[0;36mclip\u001b[0;34m(self, lower, upper, axis, inplace, *args, **kwargs)\u001b[0m\n\u001b[1;32m   5407\u001b[0m         \u001b[0;34m**\u001b[0m\u001b[0mkwargs\u001b[0m\u001b[0;34m,\u001b[0m\u001b[0;34m\u001b[0m\u001b[0;34m\u001b[0m\u001b[0m\n\u001b[1;32m   5408\u001b[0m     ) -> Series | None:\n\u001b[0;32m-> 5409\u001b[0;31m         \u001b[0;32mreturn\u001b[0m \u001b[0msuper\u001b[0m\u001b[0;34m(\u001b[0m\u001b[0;34m)\u001b[0m\u001b[0;34m.\u001b[0m\u001b[0mclip\u001b[0m\u001b[0;34m(\u001b[0m\u001b[0mlower\u001b[0m\u001b[0;34m,\u001b[0m \u001b[0mupper\u001b[0m\u001b[0;34m,\u001b[0m \u001b[0maxis\u001b[0m\u001b[0;34m,\u001b[0m \u001b[0minplace\u001b[0m\u001b[0;34m,\u001b[0m \u001b[0;34m*\u001b[0m\u001b[0margs\u001b[0m\u001b[0;34m,\u001b[0m \u001b[0;34m**\u001b[0m\u001b[0mkwargs\u001b[0m\u001b[0;34m)\u001b[0m\u001b[0;34m\u001b[0m\u001b[0;34m\u001b[0m\u001b[0m\n\u001b[0m\u001b[1;32m   5410\u001b[0m \u001b[0;34m\u001b[0m\u001b[0m\n\u001b[1;32m   5411\u001b[0m     \u001b[0;34m@\u001b[0m\u001b[0mdeprecate_nonkeyword_arguments\u001b[0m\u001b[0;34m(\u001b[0m\u001b[0mversion\u001b[0m\u001b[0;34m=\u001b[0m\u001b[0;32mNone\u001b[0m\u001b[0;34m,\u001b[0m \u001b[0mallowed_args\u001b[0m\u001b[0;34m=\u001b[0m\u001b[0;34m[\u001b[0m\u001b[0;34m\"self\"\u001b[0m\u001b[0;34m,\u001b[0m \u001b[0;34m\"method\"\u001b[0m\u001b[0;34m]\u001b[0m\u001b[0;34m)\u001b[0m\u001b[0;34m\u001b[0m\u001b[0;34m\u001b[0m\u001b[0m\n",
      "\u001b[0;32m~/.local/share/virtualenvs/recidiviz-data-Jd9N3JcA/lib/python3.8/site-packages/pandas/core/generic.py\u001b[0m in \u001b[0;36mclip\u001b[0;34m(self, lower, upper, axis, inplace, *args, **kwargs)\u001b[0m\n\u001b[1;32m   7428\u001b[0m             \u001b[0mupper\u001b[0m \u001b[0;32mis\u001b[0m \u001b[0;32mNone\u001b[0m \u001b[0;32mor\u001b[0m \u001b[0;34m(\u001b[0m\u001b[0mis_scalar\u001b[0m\u001b[0;34m(\u001b[0m\u001b[0mupper\u001b[0m\u001b[0;34m)\u001b[0m \u001b[0;32mand\u001b[0m \u001b[0mis_number\u001b[0m\u001b[0;34m(\u001b[0m\u001b[0mupper\u001b[0m\u001b[0;34m)\u001b[0m\u001b[0;34m)\u001b[0m\u001b[0;34m\u001b[0m\u001b[0;34m\u001b[0m\u001b[0m\n\u001b[1;32m   7429\u001b[0m         ):\n\u001b[0;32m-> 7430\u001b[0;31m             \u001b[0;32mreturn\u001b[0m \u001b[0mself\u001b[0m\u001b[0;34m.\u001b[0m\u001b[0m_clip_with_scalar\u001b[0m\u001b[0;34m(\u001b[0m\u001b[0mlower\u001b[0m\u001b[0;34m,\u001b[0m \u001b[0mupper\u001b[0m\u001b[0;34m,\u001b[0m \u001b[0minplace\u001b[0m\u001b[0;34m=\u001b[0m\u001b[0minplace\u001b[0m\u001b[0;34m)\u001b[0m\u001b[0;34m\u001b[0m\u001b[0;34m\u001b[0m\u001b[0m\n\u001b[0m\u001b[1;32m   7431\u001b[0m \u001b[0;34m\u001b[0m\u001b[0m\n\u001b[1;32m   7432\u001b[0m         \u001b[0mresult\u001b[0m \u001b[0;34m=\u001b[0m \u001b[0mself\u001b[0m\u001b[0;34m\u001b[0m\u001b[0;34m\u001b[0m\u001b[0m\n",
      "\u001b[0;32m~/.local/share/virtualenvs/recidiviz-data-Jd9N3JcA/lib/python3.8/site-packages/pandas/core/generic.py\u001b[0m in \u001b[0;36m_clip_with_scalar\u001b[0;34m(self, lower, upper, inplace)\u001b[0m\n\u001b[1;32m   7238\u001b[0m             \u001b[0;32mif\u001b[0m \u001b[0mupper\u001b[0m \u001b[0;32mis\u001b[0m \u001b[0;32mnot\u001b[0m \u001b[0;32mNone\u001b[0m\u001b[0;34m:\u001b[0m\u001b[0;34m\u001b[0m\u001b[0;34m\u001b[0m\u001b[0m\n\u001b[1;32m   7239\u001b[0m                 \u001b[0msubset\u001b[0m \u001b[0;34m=\u001b[0m \u001b[0mself\u001b[0m \u001b[0;34m<=\u001b[0m \u001b[0mupper\u001b[0m\u001b[0;34m\u001b[0m\u001b[0;34m\u001b[0m\u001b[0m\n\u001b[0;32m-> 7240\u001b[0;31m                 \u001b[0mresult\u001b[0m \u001b[0;34m=\u001b[0m \u001b[0mresult\u001b[0m\u001b[0;34m.\u001b[0m\u001b[0mwhere\u001b[0m\u001b[0;34m(\u001b[0m\u001b[0msubset\u001b[0m\u001b[0;34m,\u001b[0m \u001b[0mupper\u001b[0m\u001b[0;34m,\u001b[0m \u001b[0maxis\u001b[0m\u001b[0;34m=\u001b[0m\u001b[0;32mNone\u001b[0m\u001b[0;34m,\u001b[0m \u001b[0minplace\u001b[0m\u001b[0;34m=\u001b[0m\u001b[0;32mFalse\u001b[0m\u001b[0;34m)\u001b[0m\u001b[0;34m\u001b[0m\u001b[0;34m\u001b[0m\u001b[0m\n\u001b[0m\u001b[1;32m   7241\u001b[0m             \u001b[0;32mif\u001b[0m \u001b[0mlower\u001b[0m \u001b[0;32mis\u001b[0m \u001b[0;32mnot\u001b[0m \u001b[0;32mNone\u001b[0m\u001b[0;34m:\u001b[0m\u001b[0;34m\u001b[0m\u001b[0;34m\u001b[0m\u001b[0m\n\u001b[1;32m   7242\u001b[0m                 \u001b[0msubset\u001b[0m \u001b[0;34m=\u001b[0m \u001b[0mself\u001b[0m \u001b[0;34m>=\u001b[0m \u001b[0mlower\u001b[0m\u001b[0;34m\u001b[0m\u001b[0;34m\u001b[0m\u001b[0m\n",
      "\u001b[0;32m~/.local/share/virtualenvs/recidiviz-data-Jd9N3JcA/lib/python3.8/site-packages/pandas/util/_decorators.py\u001b[0m in \u001b[0;36mwrapper\u001b[0;34m(*args, **kwargs)\u001b[0m\n\u001b[1;32m    309\u001b[0m                     \u001b[0mstacklevel\u001b[0m\u001b[0;34m=\u001b[0m\u001b[0mstacklevel\u001b[0m\u001b[0;34m,\u001b[0m\u001b[0;34m\u001b[0m\u001b[0;34m\u001b[0m\u001b[0m\n\u001b[1;32m    310\u001b[0m                 )\n\u001b[0;32m--> 311\u001b[0;31m             \u001b[0;32mreturn\u001b[0m \u001b[0mfunc\u001b[0m\u001b[0;34m(\u001b[0m\u001b[0;34m*\u001b[0m\u001b[0margs\u001b[0m\u001b[0;34m,\u001b[0m \u001b[0;34m**\u001b[0m\u001b[0mkwargs\u001b[0m\u001b[0;34m)\u001b[0m\u001b[0;34m\u001b[0m\u001b[0;34m\u001b[0m\u001b[0m\n\u001b[0m\u001b[1;32m    312\u001b[0m \u001b[0;34m\u001b[0m\u001b[0m\n\u001b[1;32m    313\u001b[0m         \u001b[0;32mreturn\u001b[0m \u001b[0mwrapper\u001b[0m\u001b[0;34m\u001b[0m\u001b[0;34m\u001b[0m\u001b[0m\n",
      "\u001b[0;32m~/.local/share/virtualenvs/recidiviz-data-Jd9N3JcA/lib/python3.8/site-packages/pandas/core/series.py\u001b[0m in \u001b[0;36mwhere\u001b[0;34m(self, cond, other, inplace, axis, level, errors, try_cast)\u001b[0m\n\u001b[1;32m   5445\u001b[0m         \u001b[0mtry_cast\u001b[0m\u001b[0;34m=\u001b[0m\u001b[0mlib\u001b[0m\u001b[0;34m.\u001b[0m\u001b[0mno_default\u001b[0m\u001b[0;34m,\u001b[0m\u001b[0;34m\u001b[0m\u001b[0;34m\u001b[0m\u001b[0m\n\u001b[1;32m   5446\u001b[0m     ):\n\u001b[0;32m-> 5447\u001b[0;31m         \u001b[0;32mreturn\u001b[0m \u001b[0msuper\u001b[0m\u001b[0;34m(\u001b[0m\u001b[0;34m)\u001b[0m\u001b[0;34m.\u001b[0m\u001b[0mwhere\u001b[0m\u001b[0;34m(\u001b[0m\u001b[0mcond\u001b[0m\u001b[0;34m,\u001b[0m \u001b[0mother\u001b[0m\u001b[0;34m,\u001b[0m \u001b[0minplace\u001b[0m\u001b[0;34m,\u001b[0m \u001b[0maxis\u001b[0m\u001b[0;34m,\u001b[0m \u001b[0mlevel\u001b[0m\u001b[0;34m,\u001b[0m \u001b[0merrors\u001b[0m\u001b[0;34m,\u001b[0m \u001b[0mtry_cast\u001b[0m\u001b[0;34m)\u001b[0m\u001b[0;34m\u001b[0m\u001b[0;34m\u001b[0m\u001b[0m\n\u001b[0m\u001b[1;32m   5448\u001b[0m \u001b[0;34m\u001b[0m\u001b[0m\n\u001b[1;32m   5449\u001b[0m     @deprecate_nonkeyword_arguments(\n",
      "\u001b[0;32m~/.local/share/virtualenvs/recidiviz-data-Jd9N3JcA/lib/python3.8/site-packages/pandas/core/generic.py\u001b[0m in \u001b[0;36mwhere\u001b[0;34m(self, cond, other, inplace, axis, level, errors, try_cast)\u001b[0m\n\u001b[1;32m   9030\u001b[0m             )\n\u001b[1;32m   9031\u001b[0m \u001b[0;34m\u001b[0m\u001b[0m\n\u001b[0;32m-> 9032\u001b[0;31m         \u001b[0;32mreturn\u001b[0m \u001b[0mself\u001b[0m\u001b[0;34m.\u001b[0m\u001b[0m_where\u001b[0m\u001b[0;34m(\u001b[0m\u001b[0mcond\u001b[0m\u001b[0;34m,\u001b[0m \u001b[0mother\u001b[0m\u001b[0;34m,\u001b[0m \u001b[0minplace\u001b[0m\u001b[0;34m,\u001b[0m \u001b[0maxis\u001b[0m\u001b[0;34m,\u001b[0m \u001b[0mlevel\u001b[0m\u001b[0;34m,\u001b[0m \u001b[0merrors\u001b[0m\u001b[0;34m=\u001b[0m\u001b[0merrors\u001b[0m\u001b[0;34m)\u001b[0m\u001b[0;34m\u001b[0m\u001b[0;34m\u001b[0m\u001b[0m\n\u001b[0m\u001b[1;32m   9033\u001b[0m \u001b[0;34m\u001b[0m\u001b[0m\n\u001b[1;32m   9034\u001b[0m     \u001b[0;34m@\u001b[0m\u001b[0mfinal\u001b[0m\u001b[0;34m\u001b[0m\u001b[0;34m\u001b[0m\u001b[0m\n",
      "\u001b[0;32m~/.local/share/virtualenvs/recidiviz-data-Jd9N3JcA/lib/python3.8/site-packages/pandas/core/generic.py\u001b[0m in \u001b[0;36m_where\u001b[0;34m(self, cond, other, inplace, axis, level, errors)\u001b[0m\n\u001b[1;32m   8871\u001b[0m \u001b[0;34m\u001b[0m\u001b[0m\n\u001b[1;32m   8872\u001b[0m         \u001b[0;32melse\u001b[0m\u001b[0;34m:\u001b[0m\u001b[0;34m\u001b[0m\u001b[0;34m\u001b[0m\u001b[0m\n\u001b[0;32m-> 8873\u001b[0;31m             new_data = self._mgr.where(\n\u001b[0m\u001b[1;32m   8874\u001b[0m                 \u001b[0mother\u001b[0m\u001b[0;34m=\u001b[0m\u001b[0mother\u001b[0m\u001b[0;34m,\u001b[0m\u001b[0;34m\u001b[0m\u001b[0;34m\u001b[0m\u001b[0m\n\u001b[1;32m   8875\u001b[0m                 \u001b[0mcond\u001b[0m\u001b[0;34m=\u001b[0m\u001b[0mcond\u001b[0m\u001b[0;34m,\u001b[0m\u001b[0;34m\u001b[0m\u001b[0;34m\u001b[0m\u001b[0m\n",
      "\u001b[0;32m~/.local/share/virtualenvs/recidiviz-data-Jd9N3JcA/lib/python3.8/site-packages/pandas/core/internals/managers.py\u001b[0m in \u001b[0;36mwhere\u001b[0;34m(self, other, cond, align, errors)\u001b[0m\n\u001b[1;32m    344\u001b[0m             \u001b[0mother\u001b[0m \u001b[0;34m=\u001b[0m \u001b[0mextract_array\u001b[0m\u001b[0;34m(\u001b[0m\u001b[0mother\u001b[0m\u001b[0;34m,\u001b[0m \u001b[0mextract_numpy\u001b[0m\u001b[0;34m=\u001b[0m\u001b[0;32mTrue\u001b[0m\u001b[0;34m)\u001b[0m\u001b[0;34m\u001b[0m\u001b[0;34m\u001b[0m\u001b[0m\n\u001b[1;32m    345\u001b[0m \u001b[0;34m\u001b[0m\u001b[0m\n\u001b[0;32m--> 346\u001b[0;31m         return self.apply(\n\u001b[0m\u001b[1;32m    347\u001b[0m             \u001b[0;34m\"where\"\u001b[0m\u001b[0;34m,\u001b[0m\u001b[0;34m\u001b[0m\u001b[0;34m\u001b[0m\u001b[0m\n\u001b[1;32m    348\u001b[0m             \u001b[0malign_keys\u001b[0m\u001b[0;34m=\u001b[0m\u001b[0malign_keys\u001b[0m\u001b[0;34m,\u001b[0m\u001b[0;34m\u001b[0m\u001b[0;34m\u001b[0m\u001b[0m\n",
      "\u001b[0;32m~/.local/share/virtualenvs/recidiviz-data-Jd9N3JcA/lib/python3.8/site-packages/pandas/core/internals/managers.py\u001b[0m in \u001b[0;36mapply\u001b[0;34m(self, f, align_keys, ignore_failures, **kwargs)\u001b[0m\n\u001b[1;32m    314\u001b[0m                         \u001b[0;31m#  obj.axes[-1].equals(self.items)\u001b[0m\u001b[0;34m\u001b[0m\u001b[0;34m\u001b[0m\u001b[0;34m\u001b[0m\u001b[0m\n\u001b[1;32m    315\u001b[0m                         \u001b[0;32mif\u001b[0m \u001b[0mobj\u001b[0m\u001b[0;34m.\u001b[0m\u001b[0mndim\u001b[0m \u001b[0;34m==\u001b[0m \u001b[0;36m1\u001b[0m\u001b[0;34m:\u001b[0m\u001b[0;34m\u001b[0m\u001b[0;34m\u001b[0m\u001b[0m\n\u001b[0;32m--> 316\u001b[0;31m                             \u001b[0mkwargs\u001b[0m\u001b[0;34m[\u001b[0m\u001b[0mk\u001b[0m\u001b[0;34m]\u001b[0m \u001b[0;34m=\u001b[0m \u001b[0mobj\u001b[0m\u001b[0;34m.\u001b[0m\u001b[0miloc\u001b[0m\u001b[0;34m[\u001b[0m\u001b[0mb\u001b[0m\u001b[0;34m.\u001b[0m\u001b[0mmgr_locs\u001b[0m\u001b[0;34m.\u001b[0m\u001b[0mindexer\u001b[0m\u001b[0;34m]\u001b[0m\u001b[0;34m.\u001b[0m\u001b[0m_values\u001b[0m\u001b[0;34m\u001b[0m\u001b[0;34m\u001b[0m\u001b[0m\n\u001b[0m\u001b[1;32m    317\u001b[0m                         \u001b[0;32melse\u001b[0m\u001b[0;34m:\u001b[0m\u001b[0;34m\u001b[0m\u001b[0;34m\u001b[0m\u001b[0m\n\u001b[1;32m    318\u001b[0m                             \u001b[0mkwargs\u001b[0m\u001b[0;34m[\u001b[0m\u001b[0mk\u001b[0m\u001b[0;34m]\u001b[0m \u001b[0;34m=\u001b[0m \u001b[0mobj\u001b[0m\u001b[0;34m.\u001b[0m\u001b[0miloc\u001b[0m\u001b[0;34m[\u001b[0m\u001b[0;34m:\u001b[0m\u001b[0;34m,\u001b[0m \u001b[0mb\u001b[0m\u001b[0;34m.\u001b[0m\u001b[0mmgr_locs\u001b[0m\u001b[0;34m.\u001b[0m\u001b[0mindexer\u001b[0m\u001b[0;34m]\u001b[0m\u001b[0;34m.\u001b[0m\u001b[0m_values\u001b[0m\u001b[0;34m\u001b[0m\u001b[0;34m\u001b[0m\u001b[0m\n",
      "\u001b[0;32m~/.local/share/virtualenvs/recidiviz-data-Jd9N3JcA/lib/python3.8/site-packages/pandas/core/indexing.py\u001b[0m in \u001b[0;36m__getitem__\u001b[0;34m(self, key)\u001b[0m\n\u001b[1;32m    929\u001b[0m \u001b[0;34m\u001b[0m\u001b[0m\n\u001b[1;32m    930\u001b[0m             \u001b[0mmaybe_callable\u001b[0m \u001b[0;34m=\u001b[0m \u001b[0mcom\u001b[0m\u001b[0;34m.\u001b[0m\u001b[0mapply_if_callable\u001b[0m\u001b[0;34m(\u001b[0m\u001b[0mkey\u001b[0m\u001b[0;34m,\u001b[0m \u001b[0mself\u001b[0m\u001b[0;34m.\u001b[0m\u001b[0mobj\u001b[0m\u001b[0;34m)\u001b[0m\u001b[0;34m\u001b[0m\u001b[0;34m\u001b[0m\u001b[0m\n\u001b[0;32m--> 931\u001b[0;31m             \u001b[0;32mreturn\u001b[0m \u001b[0mself\u001b[0m\u001b[0;34m.\u001b[0m\u001b[0m_getitem_axis\u001b[0m\u001b[0;34m(\u001b[0m\u001b[0mmaybe_callable\u001b[0m\u001b[0;34m,\u001b[0m \u001b[0maxis\u001b[0m\u001b[0;34m=\u001b[0m\u001b[0maxis\u001b[0m\u001b[0;34m)\u001b[0m\u001b[0;34m\u001b[0m\u001b[0;34m\u001b[0m\u001b[0m\n\u001b[0m\u001b[1;32m    932\u001b[0m \u001b[0;34m\u001b[0m\u001b[0m\n\u001b[1;32m    933\u001b[0m     \u001b[0;32mdef\u001b[0m \u001b[0m_is_scalar_access\u001b[0m\u001b[0;34m(\u001b[0m\u001b[0mself\u001b[0m\u001b[0;34m,\u001b[0m \u001b[0mkey\u001b[0m\u001b[0;34m:\u001b[0m \u001b[0mtuple\u001b[0m\u001b[0;34m)\u001b[0m\u001b[0;34m:\u001b[0m\u001b[0;34m\u001b[0m\u001b[0;34m\u001b[0m\u001b[0m\n",
      "\u001b[0;32m~/.local/share/virtualenvs/recidiviz-data-Jd9N3JcA/lib/python3.8/site-packages/pandas/core/indexing.py\u001b[0m in \u001b[0;36m_getitem_axis\u001b[0;34m(self, key, axis)\u001b[0m\n\u001b[1;32m   1541\u001b[0m \u001b[0;34m\u001b[0m\u001b[0m\n\u001b[1;32m   1542\u001b[0m         \u001b[0;32mif\u001b[0m \u001b[0misinstance\u001b[0m\u001b[0;34m(\u001b[0m\u001b[0mkey\u001b[0m\u001b[0;34m,\u001b[0m \u001b[0mslice\u001b[0m\u001b[0;34m)\u001b[0m\u001b[0;34m:\u001b[0m\u001b[0;34m\u001b[0m\u001b[0;34m\u001b[0m\u001b[0m\n\u001b[0;32m-> 1543\u001b[0;31m             \u001b[0;32mreturn\u001b[0m \u001b[0mself\u001b[0m\u001b[0;34m.\u001b[0m\u001b[0m_get_slice_axis\u001b[0m\u001b[0;34m(\u001b[0m\u001b[0mkey\u001b[0m\u001b[0;34m,\u001b[0m \u001b[0maxis\u001b[0m\u001b[0;34m=\u001b[0m\u001b[0maxis\u001b[0m\u001b[0;34m)\u001b[0m\u001b[0;34m\u001b[0m\u001b[0;34m\u001b[0m\u001b[0m\n\u001b[0m\u001b[1;32m   1544\u001b[0m \u001b[0;34m\u001b[0m\u001b[0m\n\u001b[1;32m   1545\u001b[0m         \u001b[0;32mif\u001b[0m \u001b[0mis_iterator\u001b[0m\u001b[0;34m(\u001b[0m\u001b[0mkey\u001b[0m\u001b[0;34m)\u001b[0m\u001b[0;34m:\u001b[0m\u001b[0;34m\u001b[0m\u001b[0;34m\u001b[0m\u001b[0m\n",
      "\u001b[0;32m~/.local/share/virtualenvs/recidiviz-data-Jd9N3JcA/lib/python3.8/site-packages/pandas/core/indexing.py\u001b[0m in \u001b[0;36m_get_slice_axis\u001b[0;34m(self, slice_obj, axis)\u001b[0m\n\u001b[1;32m   1577\u001b[0m         \u001b[0mlabels\u001b[0m \u001b[0;34m=\u001b[0m \u001b[0mobj\u001b[0m\u001b[0;34m.\u001b[0m\u001b[0m_get_axis\u001b[0m\u001b[0;34m(\u001b[0m\u001b[0maxis\u001b[0m\u001b[0;34m)\u001b[0m\u001b[0;34m\u001b[0m\u001b[0;34m\u001b[0m\u001b[0m\n\u001b[1;32m   1578\u001b[0m         \u001b[0mlabels\u001b[0m\u001b[0;34m.\u001b[0m\u001b[0m_validate_positional_slice\u001b[0m\u001b[0;34m(\u001b[0m\u001b[0mslice_obj\u001b[0m\u001b[0;34m)\u001b[0m\u001b[0;34m\u001b[0m\u001b[0;34m\u001b[0m\u001b[0m\n\u001b[0;32m-> 1579\u001b[0;31m         \u001b[0;32mreturn\u001b[0m \u001b[0mself\u001b[0m\u001b[0;34m.\u001b[0m\u001b[0mobj\u001b[0m\u001b[0;34m.\u001b[0m\u001b[0m_slice\u001b[0m\u001b[0;34m(\u001b[0m\u001b[0mslice_obj\u001b[0m\u001b[0;34m,\u001b[0m \u001b[0maxis\u001b[0m\u001b[0;34m=\u001b[0m\u001b[0maxis\u001b[0m\u001b[0;34m)\u001b[0m\u001b[0;34m\u001b[0m\u001b[0;34m\u001b[0m\u001b[0m\n\u001b[0m\u001b[1;32m   1580\u001b[0m \u001b[0;34m\u001b[0m\u001b[0m\n\u001b[1;32m   1581\u001b[0m     \u001b[0;32mdef\u001b[0m \u001b[0m_convert_to_indexer\u001b[0m\u001b[0;34m(\u001b[0m\u001b[0mself\u001b[0m\u001b[0;34m,\u001b[0m \u001b[0mkey\u001b[0m\u001b[0;34m,\u001b[0m \u001b[0maxis\u001b[0m\u001b[0;34m:\u001b[0m \u001b[0mint\u001b[0m\u001b[0;34m,\u001b[0m \u001b[0mis_setter\u001b[0m\u001b[0;34m:\u001b[0m \u001b[0mbool\u001b[0m \u001b[0;34m=\u001b[0m \u001b[0;32mFalse\u001b[0m\u001b[0;34m)\u001b[0m\u001b[0;34m:\u001b[0m\u001b[0;34m\u001b[0m\u001b[0;34m\u001b[0m\u001b[0m\n",
      "\u001b[0;32m~/.local/share/virtualenvs/recidiviz-data-Jd9N3JcA/lib/python3.8/site-packages/pandas/core/series.py\u001b[0m in \u001b[0;36m_slice\u001b[0;34m(self, slobj, axis)\u001b[0m\n\u001b[1;32m    924\u001b[0m         \u001b[0;31m# axis kwarg is retained for compat with NDFrame method\u001b[0m\u001b[0;34m\u001b[0m\u001b[0;34m\u001b[0m\u001b[0;34m\u001b[0m\u001b[0m\n\u001b[1;32m    925\u001b[0m         \u001b[0;31m#  _slice is *always* positional\u001b[0m\u001b[0;34m\u001b[0m\u001b[0;34m\u001b[0m\u001b[0;34m\u001b[0m\u001b[0m\n\u001b[0;32m--> 926\u001b[0;31m         \u001b[0;32mreturn\u001b[0m \u001b[0mself\u001b[0m\u001b[0;34m.\u001b[0m\u001b[0m_get_values\u001b[0m\u001b[0;34m(\u001b[0m\u001b[0mslobj\u001b[0m\u001b[0;34m)\u001b[0m\u001b[0;34m\u001b[0m\u001b[0;34m\u001b[0m\u001b[0m\n\u001b[0m\u001b[1;32m    927\u001b[0m \u001b[0;34m\u001b[0m\u001b[0m\n\u001b[1;32m    928\u001b[0m     \u001b[0;32mdef\u001b[0m \u001b[0m__getitem__\u001b[0m\u001b[0;34m(\u001b[0m\u001b[0mself\u001b[0m\u001b[0;34m,\u001b[0m \u001b[0mkey\u001b[0m\u001b[0;34m)\u001b[0m\u001b[0;34m:\u001b[0m\u001b[0;34m\u001b[0m\u001b[0;34m\u001b[0m\u001b[0m\n",
      "\u001b[0;32m~/.local/share/virtualenvs/recidiviz-data-Jd9N3JcA/lib/python3.8/site-packages/pandas/core/series.py\u001b[0m in \u001b[0;36m_get_values\u001b[0;34m(self, indexer)\u001b[0m\n\u001b[1;32m   1024\u001b[0m     \u001b[0;32mdef\u001b[0m \u001b[0m_get_values\u001b[0m\u001b[0;34m(\u001b[0m\u001b[0mself\u001b[0m\u001b[0;34m,\u001b[0m \u001b[0mindexer\u001b[0m\u001b[0;34m)\u001b[0m\u001b[0;34m:\u001b[0m\u001b[0;34m\u001b[0m\u001b[0;34m\u001b[0m\u001b[0m\n\u001b[1;32m   1025\u001b[0m         \u001b[0;32mtry\u001b[0m\u001b[0;34m:\u001b[0m\u001b[0;34m\u001b[0m\u001b[0;34m\u001b[0m\u001b[0m\n\u001b[0;32m-> 1026\u001b[0;31m             \u001b[0mnew_mgr\u001b[0m \u001b[0;34m=\u001b[0m \u001b[0mself\u001b[0m\u001b[0;34m.\u001b[0m\u001b[0m_mgr\u001b[0m\u001b[0;34m.\u001b[0m\u001b[0mgetitem_mgr\u001b[0m\u001b[0;34m(\u001b[0m\u001b[0mindexer\u001b[0m\u001b[0;34m)\u001b[0m\u001b[0;34m\u001b[0m\u001b[0;34m\u001b[0m\u001b[0m\n\u001b[0m\u001b[1;32m   1027\u001b[0m             \u001b[0;32mreturn\u001b[0m \u001b[0mself\u001b[0m\u001b[0;34m.\u001b[0m\u001b[0m_constructor\u001b[0m\u001b[0;34m(\u001b[0m\u001b[0mnew_mgr\u001b[0m\u001b[0;34m)\u001b[0m\u001b[0;34m.\u001b[0m\u001b[0m__finalize__\u001b[0m\u001b[0;34m(\u001b[0m\u001b[0mself\u001b[0m\u001b[0;34m)\u001b[0m\u001b[0;34m\u001b[0m\u001b[0;34m\u001b[0m\u001b[0m\n\u001b[1;32m   1028\u001b[0m         \u001b[0;32mexcept\u001b[0m \u001b[0mValueError\u001b[0m\u001b[0;34m:\u001b[0m\u001b[0;34m\u001b[0m\u001b[0;34m\u001b[0m\u001b[0m\n",
      "\u001b[0;32m~/.local/share/virtualenvs/recidiviz-data-Jd9N3JcA/lib/python3.8/site-packages/pandas/core/internals/managers.py\u001b[0m in \u001b[0;36mgetitem_mgr\u001b[0;34m(self, indexer)\u001b[0m\n\u001b[1;32m   1640\u001b[0m \u001b[0;34m\u001b[0m\u001b[0m\n\u001b[1;32m   1641\u001b[0m         \u001b[0mbp\u001b[0m \u001b[0;34m=\u001b[0m \u001b[0mBlockPlacement\u001b[0m\u001b[0;34m(\u001b[0m\u001b[0mslice\u001b[0m\u001b[0;34m(\u001b[0m\u001b[0;36m0\u001b[0m\u001b[0;34m,\u001b[0m \u001b[0mlen\u001b[0m\u001b[0;34m(\u001b[0m\u001b[0marray\u001b[0m\u001b[0;34m)\u001b[0m\u001b[0;34m)\u001b[0m\u001b[0;34m)\u001b[0m\u001b[0;34m\u001b[0m\u001b[0;34m\u001b[0m\u001b[0m\n\u001b[0;32m-> 1642\u001b[0;31m         \u001b[0mblock\u001b[0m \u001b[0;34m=\u001b[0m \u001b[0mblk\u001b[0m\u001b[0;34m.\u001b[0m\u001b[0mmake_block_same_class\u001b[0m\u001b[0;34m(\u001b[0m\u001b[0marray\u001b[0m\u001b[0;34m,\u001b[0m \u001b[0mplacement\u001b[0m\u001b[0;34m=\u001b[0m\u001b[0mbp\u001b[0m\u001b[0;34m)\u001b[0m\u001b[0;34m\u001b[0m\u001b[0;34m\u001b[0m\u001b[0m\n\u001b[0m\u001b[1;32m   1643\u001b[0m \u001b[0;34m\u001b[0m\u001b[0m\n\u001b[1;32m   1644\u001b[0m         \u001b[0mnew_idx\u001b[0m \u001b[0;34m=\u001b[0m \u001b[0mself\u001b[0m\u001b[0;34m.\u001b[0m\u001b[0mindex\u001b[0m\u001b[0;34m[\u001b[0m\u001b[0mindexer\u001b[0m\u001b[0;34m]\u001b[0m\u001b[0;34m\u001b[0m\u001b[0;34m\u001b[0m\u001b[0m\n",
      "\u001b[0;32m~/.local/share/virtualenvs/recidiviz-data-Jd9N3JcA/lib/python3.8/site-packages/pandas/core/internals/blocks.py\u001b[0m in \u001b[0;36mmake_block_same_class\u001b[0;34m(self, values, placement)\u001b[0m\n\u001b[1;32m    267\u001b[0m             \u001b[0mplacement\u001b[0m \u001b[0;34m=\u001b[0m \u001b[0mself\u001b[0m\u001b[0;34m.\u001b[0m\u001b[0m_mgr_locs\u001b[0m\u001b[0;34m\u001b[0m\u001b[0;34m\u001b[0m\u001b[0m\n\u001b[1;32m    268\u001b[0m \u001b[0;34m\u001b[0m\u001b[0m\n\u001b[0;32m--> 269\u001b[0;31m         \u001b[0;32mif\u001b[0m \u001b[0mvalues\u001b[0m\u001b[0;34m.\u001b[0m\u001b[0mdtype\u001b[0m\u001b[0;34m.\u001b[0m\u001b[0mkind\u001b[0m \u001b[0;32min\u001b[0m \u001b[0;34m[\u001b[0m\u001b[0;34m\"m\"\u001b[0m\u001b[0;34m,\u001b[0m \u001b[0;34m\"M\"\u001b[0m\u001b[0;34m]\u001b[0m\u001b[0;34m:\u001b[0m\u001b[0;34m\u001b[0m\u001b[0;34m\u001b[0m\u001b[0m\n\u001b[0m\u001b[1;32m    270\u001b[0m             \u001b[0;31m# TODO: remove this once fastparquet has stopped relying on it\u001b[0m\u001b[0;34m\u001b[0m\u001b[0;34m\u001b[0m\u001b[0;34m\u001b[0m\u001b[0m\n\u001b[1;32m    271\u001b[0m             \u001b[0mvalues\u001b[0m \u001b[0;34m=\u001b[0m \u001b[0mensure_wrapped_if_datetimelike\u001b[0m\u001b[0;34m(\u001b[0m\u001b[0mvalues\u001b[0m\u001b[0;34m)\u001b[0m\u001b[0;34m\u001b[0m\u001b[0;34m\u001b[0m\u001b[0m\n",
      "\u001b[0;31mKeyboardInterrupt\u001b[0m: "
     ]
    }
   ],
   "source": [
    "#This can take several minutes to run. You'll see six checkpoints printed out along the way before it finishes.\n",
    "display_compartments = ['prison']\n",
    "spark_sim.simulate_baseline(display_compartments)"
   ]
  },
  {
   "cell_type": "markdown",
   "id": "84349840",
   "metadata": {},
   "source": [
    "Before we move on, the other thing we can check is the timesacle analysis (ARIMA) fits that the `pretrial` compartment generated based on our outflows data. Two things to look for:\n",
    "* Does this trend(s) look believable? Do we think we're capturing a reasonable guess for what could happen going forward?\n",
    "* Notice any places where a fit is steep up or down and then appruptly flattens. That's a place where the model has enforced that outflows cannot deviate from the present by more than 50%. This is an arbitrary insertion, so it's usually bad news bears if we actually hit that limit."
   ]
  },
  {
   "cell_type": "code",
   "execution_count": null,
   "id": "706dd2e2",
   "metadata": {},
   "outputs": [],
   "source": [
    "#With `by_simulation_group` set to false, you'll only see one aggregate graph. If you want to see the ARIMA fits\n",
    "# for each of the subgroups separately, set that to true and run again.\n",
    "spark_sim.get_arima_output_plots('baseline_middle', by_simulation_group=False)"
   ]
  },
  {
   "cell_type": "markdown",
   "id": "13bbfca6",
   "metadata": {},
   "source": [
    "# Running a policy scenario\n",
    "I've filled out a lot of the code for you here, but once you finish out the missing pieces definitely play around with the stuff I did for you. The whole appeal of the Spark model is how easy it is to test out different policy scenarios once you get the baseline running.\n",
    "\n",
    "Without worrying about all the details, the main thing to understand here is that a policy function transforms the transitions data of a given compartment. By applying one or multiple per compartment that is affected in the policy scneario, we can simulate the effects of the reform in question. `policy_list` is thus just a list of policy functions that gets passed into the simulation so it knows what to change in the policy scenario.\n",
    "\n",
    "Some important pointers:\n",
    "* A SparkPolicy specifies both compartment and subgroup. If you want a policy to apply to every subgroup you need one SparkPolicy per subgroup!\n",
    "* Retroactivity determines whether or not a policy applies to people who are already incarcerated. Try toggling it on and off and see what happens!\n",
    "* Order matters! If policy A shortens sentences by 50% and policy B shortens them by 1 year, the policy_list [A,B] will be different frmo the policy_list [B,A]"
   ]
  },
  {
   "cell_type": "code",
   "execution_count": null,
   "id": "20e73ed6",
   "metadata": {},
   "outputs": [],
   "source": [
    "# To start, let's model enabling parole by shortening the fraction of their sentence that people must serve.\n",
    "# Currently, they cannot serve less than 85%. Let's suppose that this policy will bring that number down to 60%.\n",
    "# Think about how you should shorten prison transitions to capture that change, then pick the appropriate parameters\n",
    "# below!\n",
    "LOS_REDUCTION = ?? # This parameter determines how much shorter compartment duration gets for affected individuals.\n",
    "AFFECTED_FRACTION = ?? # This parameter determins the fraction of the compartment population affected by the change.\n",
    "REDUCTION_TYPE = ?? #T his should either be '*' or '+'. If you make it '+', it will change compartment_duration L to\n",
    "                    # L - LOS_REDUCTION. If you make it '*', it will change L to L * (1 - LOS_REDUCTION)\n",
    "RETROACTIVE = ?? # This should either be True or False\n",
    "\n",
    "#### Should not have to change things below this line for this cell ####\n",
    "\n",
    "def apply_reinstated_parole():\n",
    "    return partial(TransitionTable.apply_reduction, \n",
    "                   reduction_df=pd.DataFrame({\n",
    "                       'outflow': [OUTFLOW],\n",
    "                       'reduction_size': [LOS_REDUCTION], \n",
    "                       'affected_fraction': [AFFECTED_FRACTION]\n",
    "                   }),\n",
    "                   reduction_type=REDUCTION_TYPE,\n",
    "                   retroactive=RETROACTIVE)\n",
    "\n",
    "# Note that I've created for you in this example, and picked it to apply the policy to all subgroups.\n",
    "policy_list = [SparkPolicy(policy_fn=apply_reinstated_parole(),\n",
    "                                           spark_compartment='prison',\n",
    "                                           sub_population={'crime_type': crime},\n",
    "                                           policy_ts=24,\n",
    "                                           apply_retroactive=RETROACTIVE) \n",
    "                               for crime in transitions_data.crime_type.unique()]\n",
    "    \n",
    "test_results = spark_sim.simulate_policy(policy_list, 'prison')"
   ]
  },
  {
   "cell_type": "markdown",
   "id": "979a907e",
   "metadata": {},
   "source": [
    "How do those results look? Does this match your expectation for the magnitude of this policy's impact?"
   ]
  },
  {
   "cell_type": "code",
   "execution_count": null,
   "id": "64d44516",
   "metadata": {},
   "outputs": [],
   "source": [
    "# Now let's try mixing it up a bit. Now I want you to try changing the policy so it only applies to \n",
    "# non-violent offenders. What crime_types will that be? How should you change your code to account for this?\n",
    "# Hint: the only thing inside the parentheses that create the SparkPolicy object that you should need to change is\n",
    "# the `sub_population`.\n",
    "\n",
    "LOS_REDUCTION = ??\n",
    "AFFECTED_FRACTION = ??\n",
    "REDUCTION_TYPE = ??\n",
    "RETROACTIVE = ??\n",
    "\n",
    "def apply_reinstated_parole():\n",
    "    return partial(TransitionTable.apply_reduction, \n",
    "                   reduction_df=pd.DataFrame({\n",
    "                       'outflow': [OUTFLOW],\n",
    "                       'reduction_size': [LOS_REDUCTION], \n",
    "                       'affected_fraction': [AFFECTED_FRACTION]\n",
    "                   }),\n",
    "                   reduction_type=REDUCTION_TYPE,\n",
    "                   retroactive=RETROACTIVE)\n",
    "\n",
    "policy_list = [SparkPolicy(policy_fn=apply_reinstated_parole(),\n",
    "                                           spark_compartment='prison',\n",
    "                                           sub_population={'crime_type': crime},\n",
    "                                           policy_ts=24,\n",
    "                                           apply_retroactive=RETROACTIVE) \n",
    "                               for crime in transitions_data.crime_type.unique()]\n",
    "    \n",
    "test_results = spark_sim.simulate_policy(policy_list, 'prison')"
   ]
  },
  {
   "cell_type": "markdown",
   "id": "0e8f3abd",
   "metadata": {},
   "source": [
    "How do these results compare to your previous scenario? Is it more or less? By how much? Can you think of a way to validate that that result is reasonable?"
   ]
  },
  {
   "cell_type": "markdown",
   "id": "b38c152a",
   "metadata": {},
   "source": [
    "# Extensions\n",
    "WOOOOOO GOOOO YOUUUUUUUU!!!! That's right, you finished the notebook :)\n",
    "That said, there's tons more to learn, so if you enjoyed that and want to try some more complex variations, here are some extensions:\n",
    "\n",
    "### We collapsed jail and prison into a single compartment, but they likely behave very differently in real life. Go back to the beginning and re-do the processing after adding a jail compartment to the model architecture. \n",
    "A few hints:\n",
    "1. sentence_type_code == 3 means prison, == 2 equals jail.\n",
    "2. You'll need to go into the YAML configuration and add a row for jail under every row for prison\n",
    "3. Bonus: how should we change the policy_list to account for this change?\n",
    "\n",
    "### Can you implement a different policy (or the same one) using a different policy function from CompartmentTransitions.apply_reduction()?\n",
    "A few hints:\n",
    "1. You'll want to go into the 'transitions_table' file in the codebase and scroll to the bottom, where the policy functions are defined, to see what you can try.\n",
    "2. The mechanics are all the same otherwise, so the only thing you should have to change in is the `apply_reinstated_parole` function.\n",
    "\n",
    "### Can you add recidivism into the model?\n",
    "A few hints:\n",
    "1. The relevant place to make this change is in the transitions_data pre-processing, where we simply assumed everyone in `release` stays there forever. You'll want to add a probability of going back to prison.\n",
    "2. You'll have to do a little digging on the DOC's website to find statistics for recidivism"
   ]
  }
 ],
 "metadata": {
  "kernelspec": {
   "display_name": "Python 3 (ipykernel)",
   "language": "python",
   "name": "python3"
  },
  "language_info": {
   "codemirror_mode": {
    "name": "ipython",
    "version": 3
   },
   "file_extension": ".py",
   "mimetype": "text/x-python",
   "name": "python",
   "nbconvert_exporter": "python",
   "pygments_lexer": "ipython3",
   "version": "3.8.8"
  },
  "toc": {
   "base_numbering": 1,
   "nav_menu": {},
   "number_sections": true,
   "sideBar": true,
   "skip_h1_title": false,
   "title_cell": "Table of Contents",
   "title_sidebar": "Contents",
   "toc_cell": true,
   "toc_position": {},
   "toc_section_display": true,
   "toc_window_display": false
  }
 },
 "nbformat": 4,
 "nbformat_minor": 5
}
