{
 "cells": [
  {
   "cell_type": "markdown",
   "id": "1dd2e31d",
   "metadata": {
    "toc": true
   },
   "source": [
    "<h1>Table of Contents<span class=\"tocSkip\"></span></h1>\n",
    "<div class=\"toc\"><ul class=\"toc-item\"></ul></div>"
   ]
  },
  {
   "cell_type": "markdown",
   "id": "2d7f5bbf",
   "metadata": {},
   "source": [
    "This notebook identifies the keywords to use for picking out crimes corresponding to a number of mandatory minimums in VA. It uses court data publicly available at https://virginiacourtdata.org/."
   ]
  },
  {
   "cell_type": "code",
   "execution_count": null,
   "id": "b475d198",
   "metadata": {},
   "outputs": [],
   "source": [
    "import os\n",
    "import sys\n",
    "sys.path.insert(0, os.path.relpath('../../../../..')) \n",
    "\n",
    "import numpy as np\n",
    "import pandas as pd\n",
    "import matplotlib.pyplot as plt\n",
    "\n",
    "from recidiviz.calculator.modeling.population_projection.super_simulation.super_simulation_factory import SuperSimulationFactory\n",
    "from recidiviz.calculator.modeling.population_projection.transition_table import TransitionTable\n",
    "from recidiviz.calculator.modeling.population_projection.shell_compartment import ShellCompartment\n",
    "from recidiviz.calculator.modeling.population_projection.spark_policy import SparkPolicy\n",
    "from recidiviz.calculator.modeling.population_projection.utils.spark_bq_utils import upload_spark_model_inputs\n",
    "import pandas as pd\n",
    "from functools import partial\n",
    "\n",
    "pd.set_option('display.max_rows', 500)\n",
    "pd.set_option('max_columns', 100)"
   ]
  },
  {
   "cell_type": "code",
   "execution_count": null,
   "id": "9204d8e0",
   "metadata": {},
   "outputs": [],
   "source": [
    "court_data = pd.concat([pd.read_csv(f'../state/VA/VA_data/VA_jail_data/circuit_criminal_{year}_anon_00.csv') for year in range(2010,2020)])\n",
    "                      \n",
    "court_data = court_data.drop(\n",
    "    ['HearingJury', 'HearingPlea', 'HearingRoom', 'fips', 'Locality', 'DrivingRestrictions', \n",
    "     'RestrictionEffectiveDate', 'RestrictionEndDate', 'RestitutionPaid', \n",
    "     'RestitutionAmount', 'Military', 'TrafficFatality', 'Sex', 'Race', 'Address', 'Costs', \n",
    "     'FinesCostPaid', 'ProgramType', 'CourtDMVSurrender', 'DriverImprovementClinic', 'VAAlcoholSafetyAction', \n",
    "     'OffenseDate', 'LifeDeath', 'OperatorLicenseSuspensionTime', 'FineAmount', 'ArrestDate',\n",
    "     'AmendedCharge', 'AmendedCodeSection', 'AmendedChargeType', 'ConcludedBy', 'DispositionDate'], axis=1)\n",
    "court_data = court_data[court_data.DispositionCode == 'Guilty'].drop('DispositionCode', axis=1)\n",
    "print(f\"number of records: {len(court_data)}\")\n",
    "court_data.head()\n",
    "\n",
    "court_data = court_data[(court_data.HearingResult == 'Sent') | (court_data.HearingResult == 'Sentenced')]\n",
    "court_data.SentenceTime = court_data.SentenceTime.fillna(0)\n",
    "court_data.SentenceSuspended = court_data.SentenceSuspended.fillna(0)\n",
    "court_data['effective_sentence_months'] = (court_data.SentenceTime - court_data.SentenceSuspended) / 365 * 12\n",
    "court_data = court_data[court_data.Charge.notnull()]\n",
    "\n",
    "\n"
   ]
  },
  {
   "cell_type": "code",
   "execution_count": null,
   "id": "ba7e6176",
   "metadata": {},
   "outputs": [],
   "source": [
    "court_data['day'] = court_data.HearingDate.apply(lambda x: int(x.split('-')[2]))\n",
    "court_data['month'] = court_data.HearingDate.apply(lambda x: int(x.split('-')[1]))\n",
    "court_data['year'] = court_data.HearingDate.apply(lambda x: int(x.split('-')[0]))"
   ]
  },
  {
   "cell_type": "code",
   "execution_count": null,
   "id": "9fe608d5",
   "metadata": {},
   "outputs": [],
   "source": [
    "def get_most_serious_case(df):\n",
    "    most_serious_crime = df.sort_values('effective_sentence_months').iloc[-1]\n",
    "    most_serious_crime['crimes'] = len(df)\n",
    "#     most_serious_crime.DRUG_POSSESSION = df.DRUG_POSSESSION.any()\n",
    "#     most_serious_crime.DRUG_SALE = df.DRUG_SALE.any()\n",
    "#     most_serious_crime.DRUG_OTHER = df.DRUG_OTHER.any()\n",
    "#     most_serious_crime.MARIJUANA = df.MARIJUANA.any()\n",
    "    return most_serious_crime\n",
    "\n",
    "court_data = court_data.groupby(['person_id', 'HearingDate'], as_index=False).apply(get_most_serious_case)"
   ]
  },
  {
   "cell_type": "code",
   "execution_count": null,
   "id": "0c14f822",
   "metadata": {},
   "outputs": [],
   "source": [
    "mms_stats = pd.read_csv('../state/VA/2022/CurrentMMs.csv')\n",
    "mms_stats = mms_stats[mms_stats.VCC.notnull()]\n",
    "mms_stats['offense_code'] = mms_stats.VCC.apply(lambda x: x.split('-')[0] + x.split('-')[1])\n",
    "mms_stats"
   ]
  },
  {
   "cell_type": "code",
   "execution_count": null,
   "id": "629d232b",
   "metadata": {},
   "outputs": [],
   "source": [
    "raw_va_sentence_df = pd.read_csv(\n",
    "    '../state/VA/VA_data/unprocessed_va_historical_sentences_v2.csv',\n",
    "    sep='\\t'\n",
    ")\n",
    "raw_va_sentence_df['crime_type'] = raw_va_sentence_df['Offense Group'].ffill()\n",
    "raw_va_sentence_df['offense_code'] = raw_va_sentence_df['VCC'].ffill()\n",
    "raw_va_sentence_df['crime'] = raw_va_sentence_df['Off1VCC'].ffill()\n",
    "raw_va_sentence_df['judge_id'] = raw_va_sentence_df['JudgeID'].ffill()\n",
    "raw_va_sentence_df['sentence_type_code'] = raw_va_sentence_df['ActDisp'].ffill()\n",
    "raw_va_sentence_df['effective_sentence_months'] = raw_va_sentence_df['effsent']\n",
    "raw_va_sentence_df['fiscal_year'] = raw_va_sentence_df['FiscalYr'].ffill()\n",
    "raw_va_sentence_df['life_sentence'] = raw_va_sentence_df['EffLif']\n",
    "raw_va_sentence_df = raw_va_sentence_df.rename({'Off1Date':'offense_date'}, axis=1)\n",
    "\n",
    "raw_va_sentence_df = raw_va_sentence_df[~raw_va_sentence_df['crime_type'].str.contains('Total')]\n",
    "\n",
    "\n",
    "raw_va_sentence_df = raw_va_sentence_df.drop(\n",
    "    ['Offense Group', 'VCC', 'Off1VCC', 'JudgeID', 'ActDisp', 'effsent', 'FiscalYr', 'EffLif'],\n",
    "    axis=1\n",
    ")\n",
    "raw_va_sentence_df"
   ]
  },
  {
   "cell_type": "code",
   "execution_count": null,
   "id": "b797f346",
   "metadata": {},
   "outputs": [],
   "source": [
    "def count_instances(crime_code):\n",
    "    return len(raw_va_sentence_df[raw_va_sentence_df.offense_code == crime_code])\n",
    "\n",
    "mms_stats['instances'] = mms_stats.offense_code.apply(count_instances)\n",
    "# plt.hist(mms_stats.instances / mms_stats.instances.sum(), bins=40)\n",
    "# plt.yscale('log')\n",
    "mms_stats.sort_values('instances', ascending=False)"
   ]
  },
  {
   "cell_type": "code",
   "execution_count": null,
   "id": "5a747327",
   "metadata": {},
   "outputs": [],
   "source": [
    "court_data['ASSAULT_ON_POLICE'] = court_data.Charge.apply(\n",
    "    lambda x: any([i in x for i in ['LAW ENF', 'POLICE']]) and not any([i in x for i in [\n",
    "        'ELUDE', 'FALSE', 'ELUDING'\n",
    "    ]])\n",
    ")\n",
    "\n",
    "court_data['THIRD_DWI_10YR'] = court_data.Charge.apply(\n",
    "    lambda x: any([i in x for i in ['3RD', '3+', 'THREE', 'THIRD']]) and not any([i in x for i in [\n",
    "        'SHOPLIFT', 'A&B', 'LARC', 'ASSAULT', 'SHOPLFT', 'SCH I', 'SCH I', 'CONCEALMENT', 'PROTECTIVE', \n",
    "        'POSS', 'INDECENT EXPOSURE', 'DIST'\n",
    "    ]])\n",
    ")\n",
    "\n",
    "court_data['DRUG_INTENT'] = court_data.Charge.apply(\n",
    "    lambda x: any([i in x for i in [\n",
    "        'INTENT',\n",
    "        'W/INT',\n",
    "        'PWI']]) \n",
    "    and not any([i in x for i in [\n",
    "        'PORN', 'GUN', 'WEAPON', 'FIREARM', 'CELL PHONE', 'ALCOHOL', 'CIG']])\n",
    ")\n",
    "court_data['DRUG_SALE'] = court_data.Charge.apply(\n",
    "    lambda x: any([i in x for i in [\n",
    "        'DISTRB',\n",
    "        'DISTRIBUTION',\n",
    "        'DISTRIB',\n",
    "        'DIST',\n",
    "        'PWID', \n",
    "        'SALE',\n",
    "        'SELL']])\n",
    "        and not any([i in x for i in [\n",
    "        'PORN', 'GUN', 'WEAPON', 'FIREARM', 'CELL PHONE', 'ALCOHOL', 'CIG']])\n",
    ")\n",
    "court_data['2ND'] = court_data.Charge.apply(\n",
    "    lambda x: any([i in x for i in ['2ND', 'SECOND']])\n",
    ")\n",
    "court_data['SECOND_PWID'] = (court_data['DRUG_INTENT'] | court_data['DRUG_SALE']) & court_data['2ND']\n",
    "\n",
    "court_data = court_data.drop(\n",
    "    ['DRUG_INTENT', 'DRUG_SALE', '2ND'], axis=1)\n",
    "# court_data['DRUG'] = court_data.Charge.apply(\n",
    "#     lambda x: any([i in x for i in [\n",
    "#         'POSS',\n",
    "#         'CONTROLLED SUBSTANCE',\n",
    "#         'SCH 1',\n",
    "#         'DISTRB',\n",
    "#         'DISTRIB',\n",
    "#         'DISTRIBUTION',\n",
    "#         'SELL'\n",
    "#         'PWID', \n",
    "#         'MARIJUANA',\n",
    "#         'MARIJ',\n",
    "#         'COCAINE',\n",
    "#         'HEROIN',\n",
    "#         'DRUG'\n",
    "#     ]]) and not any([i in x for i in [\n",
    "#         'PORN', 'GUN', 'WEAPON', 'FIREARM', 'CELL PHONE', 'ALCOHOL'\n",
    "#     ]])\n",
    "# )\n",
    "\n",
    "# court_data.DRUG_POSSESSION = court_data.DRUG_POSSESSION & court_data.DRUG\n",
    "\n",
    "\n",
    "# court_data.DRUG_SALE = court_data.DRUG_SALE & court_data.DRUG\n",
    "\n",
    "# court_data['DRUG_OTHER'] = court_data.DRUG & ~(court_data.DRUG_SALE | court_data.DRUG_POSSESSION)\n",
    "\n",
    "\n",
    "\n",
    "court_data[court_data.SECOND_PWID].groupby('Charge').count().sort_values('HearingType', ascending=False).iloc[:200]"
   ]
  },
  {
   "cell_type": "code",
   "execution_count": null,
   "id": "e464e5b0",
   "metadata": {},
   "outputs": [],
   "source": [
    "nar_data = court_data[court_data.SECOND_PWID]\n",
    "nar_data[(nar_data.year == 2017) | (nar_data.year == 2018) | (nar_data.year == 2019)]\n",
    "nar_data"
   ]
  }
 ],
 "metadata": {
  "kernelspec": {
   "display_name": "Python 3 (ipykernel)",
   "language": "python",
   "name": "python3"
  },
  "language_info": {
   "codemirror_mode": {
    "name": "ipython",
    "version": 3
   },
   "file_extension": ".py",
   "mimetype": "text/x-python",
   "name": "python",
   "nbconvert_exporter": "python",
   "pygments_lexer": "ipython3",
   "version": "3.8.8"
  },
  "toc": {
   "base_numbering": 1,
   "nav_menu": {},
   "number_sections": true,
   "sideBar": true,
   "skip_h1_title": false,
   "title_cell": "Table of Contents",
   "title_sidebar": "Contents",
   "toc_cell": true,
   "toc_position": {},
   "toc_section_display": true,
   "toc_window_display": false
  }
 },
 "nbformat": 4,
 "nbformat_minor": 5
}
