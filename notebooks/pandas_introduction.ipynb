{
 "cells": [
  {
   "cell_type": "markdown",
   "id": "80f744c0",
   "metadata": {},
   "source": [
    "# Pandas Introduction\n",
    "New to pandas? No need to worry! We're going to walk through some of the basic functions here. If you don't understand how a function works, Google is your friend! There's extensive documentation, random StackOverflow posts, YouTube videos, and more that can help you understand how to do something."
   ]
  },
  {
   "cell_type": "code",
   "execution_count": 100,
   "id": "77adb522",
   "metadata": {},
   "outputs": [],
   "source": [
    "# Let's import the pandas library so that we can use its functions.\n",
    "import pandas as pd\n"
   ]
  },
  {
   "cell_type": "code",
   "execution_count": 101,
   "id": "2d146e44",
   "metadata": {},
   "outputs": [],
   "source": [
    "# Pandas is useful because we can create tables to organize our data. These tables are called dataframes.\n",
    "\n",
    "# Let's create a dataframe.\n",
    "\n",
    "sdc_members = {\n",
    "    \"Name\": [\"Grace\", \"Ayesha\", \"Paco\", \"Ellie\", \"Isaac\", \"Danny\"],\n",
    "    \"Class Year\": [2025, 2024, 2023, 2023, 2025, 2025],\n",
    "    \"Position\": [\"Policy Team\", \"Policy Team\", \"President\", \"President\", \"Spotlights\", \"Lunch and Learn\"]\n",
    "}\n",
    "\n",
    "df = pd.DataFrame(sdc_members)"
   ]
  },
  {
   "cell_type": "code",
   "execution_count": 122,
   "id": "a4422d7f",
   "metadata": {},
   "outputs": [],
   "source": [
    "# What if I want to look at just one row?\n",
    "df.loc[1]\n",
    "\n",
    "# Look at rows 2 through 4 (the two lines below are equivalent):\n",
    "df.loc[2:4]\n",
    "df.loc[[2, 3, 4]]\n",
    "\n",
    "# Let's look at columns now!\n",
    "df[\"Name\"]\n",
    "df[[\"Name\", \"Position\"]]"
   ]
  },
  {
   "cell_type": "code",
   "execution_count": 103,
   "id": "570c3af9",
   "metadata": {},
   "outputs": [],
   "source": [
    "# Your turn! Return a table with only the odd number rows.\n",
    "\n",
    "# Now return a table with rows 1 through 4 of df (try doing this in two different ways)!\n",
    "\n",
    "# Let's combine our indexing. Try returning a table that only has the \"Name\" and \"Position\" columns, \n",
    "# and also only has the first and second rows of df.\n"
   ]
  },
  {
   "cell_type": "code",
   "execution_count": 104,
   "id": "b8d2ceac",
   "metadata": {},
   "outputs": [
    {
     "name": "stderr",
     "output_type": "stream",
     "text": [
      "/var/folders/2b/1mk8fdhx1_n4721rb_xg8x4h0000gn/T/ipykernel_98207/850955948.py:4: DtypeWarning: Columns (34,35,37,38,40,41) have mixed types. Specify dtype option on import or set low_memory=False.\n",
      "  mms_stats = pd.read_csv('../state/VA/VA_data/sentencing_data/sentencing_2021.csv')\n"
     ]
    }
   ],
   "source": [
    "# Great job! You've learned some basic indexing and how we can alter a table to get the data we want.\n",
    "\n",
    "# Now let's grab some actual sentencing data to look at.\n",
    "mms_stats = pd.read_csv('../state/VA/VA_data/sentencing_data/sentencing_2021.csv')\n",
    "\n",
    "# What does that data look like? Let's take a look. Try running each of the lines below, and see what it shows you.\n",
    "# mms_stats\n",
    "# mms_stats.head()\n",
    "# mms_stats.tail()"
   ]
  },
  {
   "cell_type": "code",
   "execution_count": 105,
   "id": "13252a5c",
   "metadata": {},
   "outputs": [],
   "source": [
    "# Just to be safe, let's make a copy of this table to play around with.\n",
    "mms_copy = mms_stats.copy()"
   ]
  },
  {
   "cell_type": "code",
   "execution_count": 106,
   "id": "a7c193a7",
   "metadata": {},
   "outputs": [],
   "source": [
    "# We'll be using .groupby() a lot to combine data into manageable chunks.\n",
    "# Compare mms_copy with mms_copy2. How are they different?\n",
    "\n",
    "mms_copy2 = mms_copy.groupby([\"Offender Birth Month\"]).count()"
   ]
  },
  {
   "cell_type": "code",
   "execution_count": 120,
   "id": "842b8c8c",
   "metadata": {},
   "outputs": [],
   "source": [
    "# Some columns have names that are too long to code easily with. Let's rename a column and group by it.\n",
    "\n",
    "mms_copy3 = mms_copy.rename({\"Total Effective Sentence (Imposed Less Suspended Time) incl. Alternative Programs (in Months)\": \n",
    "                \"Total Effective Sentence\"}, axis=1\n",
    "                )\n",
    "\n",
    "mms_copy3.groupby([\"Total Effective Sentence\", \"Calendar Year of Sentencing\"]).count()"
   ]
  },
  {
   "cell_type": "code",
   "execution_count": 108,
   "id": "7ff78049",
   "metadata": {},
   "outputs": [],
   "source": [
    "# Try it yourself! Rename the \"Sentencing Guidelines Recommended High End of Range (in Months)\" column to \n",
    "# \"Sentencing Guidelines\", and then try grouping by it.\n"
   ]
  },
  {
   "cell_type": "code",
   "execution_count": 109,
   "id": "ab8b252d",
   "metadata": {},
   "outputs": [],
   "source": [
    "# Now try grouping by multiple columns: \"Calendar Year of Sentencing\" and \"Fiscal Year of Sentencing\".\n",
    "# What does the table look like? Why would we want to group by two columns?\n"
   ]
  },
  {
   "cell_type": "code",
   "execution_count": 119,
   "id": "d913e983",
   "metadata": {},
   "outputs": [],
   "source": [
    "# Another common function we'll use is .apply(). Pass in a function to .apply() and you can apply that function to\n",
    "# every cell in a dataframe! Very useful when we want to manipulate data in terms of a policy function.\n",
    "\n",
    "# Let's look at an example with our old sdc_members dataframe. \n",
    "# Run this cell to remind ourselves what the dataframe looks like.\n",
    "\n",
    "df_copy = df.copy()\n",
    "df_copy"
   ]
  },
  {
   "cell_type": "code",
   "execution_count": 118,
   "id": "fa83375d",
   "metadata": {},
   "outputs": [],
   "source": [
    "# What if everyone in the table decides to take a gap year? Then our class year would increase by one. A tedious way\n",
    "# to reflect that change in the dataframe would be manually editing each class year for each person:\n",
    "df_copy.loc[0, \"Class Year\"] + 1;\n",
    "\n",
    "# But we would have to do that for every row in the dataframe, and when you have a dataframe like mms_copy,\n",
    "# with thousands of rows, that can get difficult. (Fun aside: try writing a for loop to accomplish this goal!)\n",
    "# Instead, we can use .apply().\n",
    "\n",
    "# To use .apply(), we'll need a function to apply to the dataframe. Let's create one:\n",
    "\n",
    "def add_one(year): # def is the keyword for defining a function, add_one is the function name, and year is the input\n",
    "    return year + 1 # year + 1 is what the function is doing, and the function is outputting (returning) that value\n",
    "\n",
    "df_copy[\"Class Year\"] = df_copy[\"Class Year\"].apply(add_one)\n",
    "\n",
    "# Ta da! We added a year to everyone's class.\n",
    "\n",
    "df_copy"
   ]
  },
  {
   "cell_type": "code",
   "execution_count": 117,
   "id": "1e960490",
   "metadata": {},
   "outputs": [],
   "source": [
    "# Another quick way to do this would be to use a lambda function. A lambda function is a small function that \n",
    "# can be written in one line, so you don't have to define it separately. Here's what it looks like:\n",
    "df_copy[\"Class Year\"] = df_copy[\"Class Year\"].apply(lambda year : year + 1)\n",
    "\n",
    "df_copy\n",
    "\n",
    "# Try using .apply and a lambda function to reflect a world in which everyone in the table graduates one year early.\n",
    "\n"
   ]
  },
  {
   "cell_type": "code",
   "execution_count": 115,
   "id": "b8b2a886",
   "metadata": {},
   "outputs": [],
   "source": [
    "# Your turn! Make a copy of df and use .apply() and a lambda function to convert everyone's class year to the \n",
    "# number of years they have left at Stanford. For example, I (Ayesha) am graduating in 2024, so I have two years left. \n",
    "# Once you're done with this, your output should match changed_years.\n",
    "# When you're done, rename the \"Class Year\" column so it says \"Years Left\".\n",
    "\n",
    "sdc_members_years_left = {\n",
    "    \"Name\": [\"Grace\", \"Ayesha\", \"Paco\", \"Ellie\", \"Isaac\", \"Danny\"],\n",
    "    \"Years Left\": [3, 2, 1, 1, 3, 3],\n",
    "    \"Position\": [\"Policy Team\", \"Policy Team\", \"President\", \"President\", \"Spotlights\", \"Lunch and Learn\"]\n",
    "}\n",
    "\n",
    "years_left = pd.DataFrame(sdc_members_years_left)\n",
    "years_left\n",
    "\n",
    "# Your work here:\n",
    "\n"
   ]
  },
  {
   "cell_type": "code",
   "execution_count": 116,
   "id": "6c19d03d",
   "metadata": {},
   "outputs": [],
   "source": [
    "# Now try using .apply() and define a function (don't use lambda) to convert everyone's years left to \n",
    "# how many years they've spent at Stanford. For example, Grace has three years left, so she's spent one full year \n",
    "# at Stanford. The 3 in her row should be replaced with a 1. Paco has 1 year left, so he has spent three full years \n",
    "# at Stanford. The 1 in his row should be replaced with a 3. Once you're done with this, your output should match\n",
    "# years_spent. Make a copy of df to work with, and rename any columns as needed.\n",
    "\n",
    "sdc_members_years_spent = {\n",
    "    \"Name\": [\"Grace\", \"Ayesha\", \"Paco\", \"Ellie\", \"Isaac\", \"Danny\"],\n",
    "    \"Years Spent\": [1, 2, 3, 3, 1, 1],\n",
    "    \"Position\": [\"Policy Team\", \"Policy Team\", \"President\", \"President\", \"Spotlights\", \"Lunch and Learn\"]\n",
    "}\n",
    "\n",
    "years_spent = pd.DataFrame(sdc_members_years_spent)\n",
    "years_spent\n",
    "\n",
    "# Your work here:\n",
    "\n"
   ]
  },
  {
   "cell_type": "markdown",
   "id": "76810082",
   "metadata": {},
   "source": [
    "You did it! You've completed this pandas introduction and learned a few of the key functions that we tend to use when analyzing data. I'd recommend playing around with this notebook some more: give yourself more tasks! Try creating your own dataframe. Index into it, try new things, edit the cells, whatever you want. It can be a lot of fun once you get the hang of it! Google things you're not sure about, look up the pandas documentation, and don't be discouraged by error messages. It's all part of the learning process :)"
   ]
  }
 ],
 "metadata": {
  "kernelspec": {
   "display_name": "Python 3 (ipykernel)",
   "language": "python",
   "name": "python3"
  },
  "language_info": {
   "codemirror_mode": {
    "name": "ipython",
    "version": 3
   },
   "file_extension": ".py",
   "mimetype": "text/x-python",
   "name": "python",
   "nbconvert_exporter": "python",
   "pygments_lexer": "ipython3",
   "version": "3.8.13"
  }
 },
 "nbformat": 4,
 "nbformat_minor": 5
}
