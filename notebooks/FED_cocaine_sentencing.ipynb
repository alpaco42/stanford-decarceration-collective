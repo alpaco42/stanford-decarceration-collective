{
 "cells": [
  {
   "cell_type": "markdown",
   "metadata": {
    "toc": true
   },
   "source": [
    "<h1>Table of Contents<span class=\"tocSkip\"></span></h1>\n",
    "<div class=\"toc\"><ul class=\"toc-item\"></ul></div>"
   ]
  },
  {
   "cell_type": "code",
   "execution_count": 1,
   "metadata": {},
   "outputs": [],
   "source": [
    "import os\n",
    "import sys\n",
    "sys.path.insert(0, os.path.relpath('../')) \n",
    "\n"
   ]
  },
  {
   "cell_type": "code",
   "execution_count": 2,
   "metadata": {},
   "outputs": [],
   "source": [
    "from super_simulation.super_simulation_factory import (\n",
    "    SuperSimulationFactory,\n",
    ")\n",
    "from transition_table import (\n",
    "    TransitionTable,\n",
    ")\n",
    "from spark_policy import SparkPolicy\n",
    "import pandas as pd\n",
    "from functools import partial\n",
    "import yaml\n",
    "\n",
    "%config Completer.use_jedi = False"
   ]
  },
  {
   "cell_type": "code",
   "execution_count": 4,
   "metadata": {},
   "outputs": [
    {
     "ename": "FileNotFoundError",
     "evalue": "[Errno 2] No such file or directory: 'state/FED/federal_prison_model_inputs.yaml'",
     "output_type": "error",
     "traceback": [
      "\u001b[0;31m---------------------------------------------------------------------------\u001b[0m",
      "\u001b[0;31mFileNotFoundError\u001b[0m                         Traceback (most recent call last)",
      "Cell \u001b[0;32mIn [4], line 3\u001b[0m\n\u001b[1;32m      1\u001b[0m path_from_state_folder \u001b[38;5;241m=\u001b[39m \u001b[38;5;124m\"\u001b[39m\u001b[38;5;124mFED/federal_prison_model_inputs.yaml\u001b[39m\u001b[38;5;124m\"\u001b[39m\n\u001b[1;32m      2\u001b[0m display_compartments \u001b[38;5;241m=\u001b[39m [\u001b[38;5;124m\"\u001b[39m\u001b[38;5;124mprison\u001b[39m\u001b[38;5;124m\"\u001b[39m]\n\u001b[0;32m----> 3\u001b[0m test_sim \u001b[38;5;241m=\u001b[39m \u001b[43mSuperSimulationFactory\u001b[49m\u001b[38;5;241;43m.\u001b[39;49m\u001b[43mbuild_super_simulation\u001b[49m\u001b[43m(\u001b[49m\n\u001b[1;32m      4\u001b[0m \u001b[43m    \u001b[49m\u001b[38;5;124;43m\"\u001b[39;49m\u001b[38;5;124;43mstate/\u001b[39;49m\u001b[38;5;124;43m\"\u001b[39;49m\u001b[43m \u001b[49m\u001b[38;5;241;43m+\u001b[39;49m\u001b[43m \u001b[49m\u001b[43mpath_from_state_folder\u001b[49m\n\u001b[1;32m      5\u001b[0m \u001b[43m)\u001b[49m\n\u001b[1;32m      6\u001b[0m test_sim\u001b[38;5;241m.\u001b[39msimulate_baseline(display_compartments)\n",
      "File \u001b[0;32m~/Desktop/SDC/stanford-decarceration-collective/notebooks/../super_simulation/super_simulation_factory.py:42\u001b[0m, in \u001b[0;36mSuperSimulationFactory.build_super_simulation\u001b[0;34m(cls, yaml_file_path)\u001b[0m\n\u001b[1;32m     39\u001b[0m \u001b[38;5;129m@classmethod\u001b[39m\n\u001b[1;32m     40\u001b[0m \u001b[38;5;28;01mdef\u001b[39;00m \u001b[38;5;21mbuild_super_simulation\u001b[39m(\u001b[38;5;28mcls\u001b[39m, yaml_file_path: \u001b[38;5;28mstr\u001b[39m) \u001b[38;5;241m-\u001b[39m\u001b[38;5;241m>\u001b[39m SuperSimulation:\n\u001b[1;32m     41\u001b[0m     \u001b[38;5;124;03m\"\"\"Initialize a SuperSimulation object using the config defined in the YAML file\"\"\"\u001b[39;00m\n\u001b[0;32m---> 42\u001b[0m     initialization_params \u001b[38;5;241m=\u001b[39m \u001b[43mYAMLDict\u001b[49m\u001b[38;5;241;43m.\u001b[39;49m\u001b[43mfrom_path\u001b[49m\u001b[43m(\u001b[49m\u001b[43myaml_file_path\u001b[49m\u001b[43m)\u001b[49m\n\u001b[1;32m     44\u001b[0m     \u001b[38;5;28mcls\u001b[39m\u001b[38;5;241m.\u001b[39m_check_valid_yaml_inputs(initialization_params)\n\u001b[1;32m     46\u001b[0m     reference_year \u001b[38;5;241m=\u001b[39m initialization_params\u001b[38;5;241m.\u001b[39mpop(\u001b[38;5;124m\"\u001b[39m\u001b[38;5;124mreference_date\u001b[39m\u001b[38;5;124m\"\u001b[39m, \u001b[38;5;28mfloat\u001b[39m)\n",
      "File \u001b[0;32m~/Desktop/SDC/stanford-decarceration-collective/notebooks/../utils/yaml_dict.py:40\u001b[0m, in \u001b[0;36mYAMLDict.from_path\u001b[0;34m(cls, yaml_path)\u001b[0m\n\u001b[1;32m     38\u001b[0m \u001b[38;5;129m@classmethod\u001b[39m\n\u001b[1;32m     39\u001b[0m \u001b[38;5;28;01mdef\u001b[39;00m \u001b[38;5;21mfrom_path\u001b[39m(\u001b[38;5;28mcls\u001b[39m, yaml_path: \u001b[38;5;28mstr\u001b[39m) \u001b[38;5;241m-\u001b[39m\u001b[38;5;241m>\u001b[39m \u001b[38;5;124m\"\u001b[39m\u001b[38;5;124mYAMLDict\u001b[39m\u001b[38;5;124m\"\u001b[39m:\n\u001b[0;32m---> 40\u001b[0m     \u001b[38;5;28;01mwith\u001b[39;00m \u001b[38;5;28;43mopen\u001b[39;49m\u001b[43m(\u001b[49m\u001b[43myaml_path\u001b[49m\u001b[43m,\u001b[49m\u001b[43m \u001b[49m\u001b[43mencoding\u001b[49m\u001b[38;5;241;43m=\u001b[39;49m\u001b[38;5;124;43m\"\u001b[39;49m\u001b[38;5;124;43mutf-8\u001b[39;49m\u001b[38;5;124;43m\"\u001b[39;49m\u001b[43m)\u001b[49m \u001b[38;5;28;01mas\u001b[39;00m yaml_file:\n\u001b[1;32m     41\u001b[0m         loaded_raw_yaml \u001b[38;5;241m=\u001b[39m yaml\u001b[38;5;241m.\u001b[39msafe_load(yaml_file)\n\u001b[1;32m     42\u001b[0m         \u001b[38;5;28;01mif\u001b[39;00m \u001b[38;5;129;01mnot\u001b[39;00m \u001b[38;5;28misinstance\u001b[39m(loaded_raw_yaml, \u001b[38;5;28mdict\u001b[39m):\n",
      "\u001b[0;31mFileNotFoundError\u001b[0m: [Errno 2] No such file or directory: 'state/FED/federal_prison_model_inputs.yaml'"
     ]
    }
   ],
   "source": [
    "path_from_state_folder = \"FED/federal_prison_model_inputs.yaml\"\n",
    "display_compartments = [\"prison\"]\n",
    "test_sim = SuperSimulationFactory.build_super_simulation(\n",
    "    \"state/\" + path_from_state_folder\n",
    ")\n",
    "test_sim.simulate_baseline(display_compartments)"
   ]
  },
  {
   "cell_type": "code",
   "execution_count": 13,
   "metadata": {},
   "outputs": [
    {
     "name": "stdout",
     "output_type": "stream",
     "text": [
      "initialization time:  6.833798885345459\n",
      "initialization time:  6.183797121047974\n",
      "simulation_time:  7.8541083335876465\n",
      "simulation_time:  8.391791820526123\n"
     ]
    },
    {
     "data": {
      "image/png": "[encoded data removed]",
      "text/plain": [
       "<Figure size 432x288 with 1 Axes>"
      ]
     },
     "metadata": {
      "needs_background": "light"
     },
     "output_type": "display_data"
    }
   ],
   "source": [
    "# test_sim = SuperSimulationFactory.build_super_simulation('../state/WI/WI_prison_model_inputs.yaml')\n",
    "\n",
    "# Policy Option Methods\n",
    "powder_transitions = test_sim.initializer.data_dict[\"transitions_data\"]\n",
    "powder_transitions = powder_transitions[\n",
    "    (powder_transitions.compartment == \"prison\")\n",
    "    & (powder_transitions.crime_type == \"powder\")\n",
    "]\n",
    "\n",
    "\n",
    "def remove_sentencing_disparities(retroactive=False):\n",
    "    return partial(\n",
    "        TransitionTable.use_alternate_transitions_data,\n",
    "        alternate_historical_transitions=powder_transitions,\n",
    "        retroactive=retroactive,\n",
    "    )\n",
    "\n",
    "\n",
    "policy_list_non_retroactive = [\n",
    "    SparkPolicy(\n",
    "        policy_fn=remove_sentencing_disparities(True),\n",
    "        spark_compartment=\"prison\",\n",
    "        sub_population={\"crime_type\": \"crack\"},\n",
    "        policy_ts=48,\n",
    "        apply_retroactive=True,\n",
    "    )\n",
    "]\n",
    "\n",
    "test_results = test_sim.simulate_policy(policy_list_non_retroactive, \"prison\")"
   ]
  },
  {
   "cell_type": "code",
   "execution_count": 14,
   "metadata": {},
   "outputs": [
    {
     "data": {
      "text/plain": [
       "{'spending_diff':                        prison release release_full\n",
       " year                                              \n",
       " 2020.000000               0.0     0.0          0.0\n",
       " 2020.083333               0.0     0.0          0.0\n",
       " 2020.166667               0.0     0.0          0.0\n",
       " 2020.250000               0.0     0.0          0.0\n",
       " 2020.333333               0.0     0.0          0.0\n",
       " ...                       ...     ...          ...\n",
       " 2029.583333  179026436.139282     0.0          0.0\n",
       " 2029.666667  180406321.393974     0.0          0.0\n",
       " 2029.750000  181781655.167447     0.0          0.0\n",
       " 2029.833333  183154541.909399     0.0          0.0\n",
       " 2029.916667  184526893.840617     0.0          0.0\n",
       " \n",
       " [120 rows x 3 columns],\n",
       " 'compartment_life_years_diff':                   prison      release release_full\n",
       " year                                              \n",
       " 2020.000000          0.0          0.0          0.0\n",
       " 2020.083333          0.0          0.0          0.0\n",
       " 2020.166667          0.0          0.0          0.0\n",
       " 2020.250000          0.0          0.0          0.0\n",
       " 2020.333333          0.0          0.0          0.0\n",
       " ...                  ...          ...          ...\n",
       " 2029.583333  4977.000372 -4977.003627          0.0\n",
       " 2029.666667  5015.361687 -5015.364948          0.0\n",
       " 2029.750000  5053.596468 -5053.599746          0.0\n",
       " 2029.833333  5091.763222 -5091.766526          0.0\n",
       " 2029.916667  5129.915107 -5129.918443          0.0\n",
       " \n",
       " [120 rows x 3 columns],\n",
       " 'spending_diff_non_cumulative':                       prison release release_full\n",
       " year                                             \n",
       " 2020.000000              0.0     0.0          0.0\n",
       " 2020.083333              0.0     0.0          0.0\n",
       " 2020.166667              0.0     0.0          0.0\n",
       " 2020.250000              0.0     0.0          0.0\n",
       " 2020.333333              0.0     0.0          0.0\n",
       " ...                      ...     ...          ...\n",
       " 2029.583333  16640816.235677     0.0          0.0\n",
       " 2029.666667  16558623.056363     0.0          0.0\n",
       " 2029.750000  16504005.281744     0.0          0.0\n",
       " 2029.833333  16474640.903495     0.0          0.0\n",
       " 2029.916667   16468223.17468     0.0          0.0\n",
       " \n",
       " [120 rows x 3 columns]}"
      ]
     },
     "execution_count": 14,
     "metadata": {},
     "output_type": "execute_result"
    }
   ],
   "source": [
    "test_sim.upload_policy_simulation_results_to_bq(\"federal_prison_retro\")"
   ]
  },
  {
   "cell_type": "code",
   "execution_count": null,
   "metadata": {},
   "outputs": [],
   "source": []
  }
 ],
 "metadata": {
  "kernelspec": {
   "display_name": "Python 3 (ipykernel)",
   "language": "python",
   "name": "python3"
  },
  "language_info": {
   "codemirror_mode": {
    "name": "ipython",
    "version": 3
   },
   "file_extension": ".py",
   "mimetype": "text/x-python",
   "name": "python",
   "nbconvert_exporter": "python",
   "pygments_lexer": "ipython3",
   "version": "3.8.14"
  },
  "toc": {
   "base_numbering": 1,
   "nav_menu": {},
   "number_sections": true,
   "sideBar": true,
   "skip_h1_title": false,
   "title_cell": "Table of Contents",
   "title_sidebar": "Contents",
   "toc_cell": true,
   "toc_position": {},
   "toc_section_display": true,
   "toc_window_display": false
  }
 },
 "nbformat": 4,
 "nbformat_minor": 4
}
